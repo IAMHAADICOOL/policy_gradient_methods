{
 "cells": [
  {
   "cell_type": "markdown",
   "metadata": {
    "id": "8GcEjHjuwnXW"
   },
   "source": [
    "## Soft Actor-Critic (SAC)"
   ]
  },
  {
   "cell_type": "code",
   "execution_count": null,
   "metadata": {
    "id": "29QddByhtuOm"
   },
   "outputs": [],
   "source": [
    "!apt-get install -y \\\n",
    "    libgl1-mesa-dev \\\n",
    "    libgl1-mesa-glx \\\n",
    "    libglew-dev \\\n",
    "    xvfb \\\n",
    "    libosmesa6-dev \\\n",
    "    software-properties-common \\\n",
    "    patchelf\n",
    "\n",
    "!pip install \\\n",
    "    free-mujoco-py \\\n",
    "    gym==0.21 \\\n",
    "    pytorch-lightning==1.6.0 \\\n",
    "    optuna \\\n",
    "    pyvirtualdisplay \\\n",
    "    PyOpenGL \\\n",
    "    PyOpenGL-accelerate"
   ]
  },
  {
   "cell_type": "markdown",
   "metadata": {
    "id": "ZOSJl-X7zvs4"
   },
   "source": [
    "#### Setup virtual display"
   ]
  },
  {
   "cell_type": "code",
   "execution_count": 1,
   "metadata": {
    "id": "B-Z6takfzqGk"
   },
   "outputs": [
    {
     "data": {
      "text/plain": [
       "<pyvirtualdisplay.display.Display at 0x7f64905d3c70>"
      ]
     },
     "execution_count": 1,
     "metadata": {},
     "output_type": "execute_result"
    }
   ],
   "source": [
    "from pyvirtualdisplay import Display\n",
    "Display(visible=False, size=(1400, 900)).start()"
   ]
  },
  {
   "cell_type": "markdown",
   "metadata": {
    "id": "Cz8DLleGz_TF"
   },
   "source": [
    "#### Import the necessary code libraries"
   ]
  },
  {
   "cell_type": "code",
   "execution_count": 1,
   "metadata": {
    "id": "cP5t6U7-nYoc"
   },
   "outputs": [],
   "source": [
    "import copy\n",
    "import gymnasium as gym\n",
    "import gymnasium_robotics\n",
    "import torch\n",
    "import itertools\n",
    "import random\n",
    "\n",
    "import numpy as np\n",
    "import torch.nn.functional as F\n",
    "\n",
    "from collections import deque, namedtuple\n",
    "from IPython.display import HTML\n",
    "from base64 import b64encode\n",
    "\n",
    "from torch import nn\n",
    "from torch.utils.data import DataLoader\n",
    "from torch.utils.data.dataset import IterableDataset\n",
    "from torch.optim import AdamW\n",
    "from torch.distributions.normal import Normal\n",
    "\n",
    "from pytorch_lightning import LightningModule, Trainer\n",
    "\n",
    "from gymnasium.wrappers import RecordVideo, RecordEpisodeStatistics, \\\n",
    "  FilterObservation, FlattenObservation, TimeLimit\n",
    "\n",
    "\n",
    "device = 'cuda:0' if torch.cuda.is_available() else 'cpu'\n",
    "num_gpus = torch.cuda.device_count()"
   ]
  },
  {
   "cell_type": "code",
   "execution_count": 2,
   "metadata": {},
   "outputs": [
    {
     "data": {
      "text/plain": [
       "'cuda:0'"
      ]
     },
     "execution_count": 2,
     "metadata": {},
     "output_type": "execute_result"
    }
   ],
   "source": [
    "device"
   ]
  },
  {
   "cell_type": "code",
   "execution_count": 35,
   "metadata": {},
   "outputs": [],
   "source": [
    "import os\n",
    "os.environ[\"CUDA_VISIBLE_DEVICES\"] = \"0\" "
   ]
  },
  {
   "cell_type": "code",
   "execution_count": 4,
   "metadata": {},
   "outputs": [
    {
     "data": {
      "text/plain": [
       "'cuda:0'"
      ]
     },
     "execution_count": 4,
     "metadata": {},
     "output_type": "execute_result"
    }
   ],
   "source": [
    "device"
   ]
  },
  {
   "cell_type": "code",
   "execution_count": 3,
   "metadata": {
    "id": "Z_IrPlU1wwPx"
   },
   "outputs": [],
   "source": [
    "def display_video(episode=0):\n",
    "  video_file = open(f'/content/videos3/rl-video-episode-{episode}.mp4', \"r+b\").read()\n",
    "  video_url = f\"data:video/mp4;base64,{b64encode(video_file).decode()}\"\n",
    "  return HTML(f\"<video width=600 controls><source src='{video_url}'></video>\")"
   ]
  },
  {
   "cell_type": "markdown",
   "metadata": {
    "id": "3Yeo3s-QPnZH"
   },
   "source": [
    "#### Create the replay buffer"
   ]
  },
  {
   "cell_type": "code",
   "execution_count": 4,
   "metadata": {
    "id": "lKGbkg_6uIGK"
   },
   "outputs": [],
   "source": [
    "class ReplayBuffer:\n",
    "\n",
    "  def __init__(self, capacity):\n",
    "    self.buffer = deque(maxlen=capacity)\n",
    "\n",
    "  def __len__(self):\n",
    "    return len(self.buffer)\n",
    "  \n",
    "  def append(self, experience):\n",
    "    self.buffer.append(experience)\n",
    "  \n",
    "  def sample(self, batch_size):\n",
    "    return random.sample(self.buffer, batch_size)"
   ]
  },
  {
   "cell_type": "code",
   "execution_count": 5,
   "metadata": {
    "id": "YtGko6LVQaJz"
   },
   "outputs": [],
   "source": [
    "class RLDataset(IterableDataset):\n",
    "\n",
    "  def __init__(self, buffer, sample_size=400):\n",
    "    self.buffer = buffer\n",
    "    self.sample_size = sample_size\n",
    "  \n",
    "  def __iter__(self):\n",
    "    for experience in self.buffer.sample(self.sample_size):\n",
    "      yield experience"
   ]
  },
  {
   "cell_type": "markdown",
   "metadata": {
    "id": "ihkyoL5WQgGm"
   },
   "source": [
    "#### Create the environment"
   ]
  },
  {
   "cell_type": "code",
   "execution_count": 8,
   "metadata": {},
   "outputs": [
    {
     "name": "stderr",
     "output_type": "stream",
     "text": [
      "/home/akhters/.local/lib/python3.8/site-packages/gymnasium/envs/registration.py:513: DeprecationWarning: \u001b[33mWARN: The environment FetchReachDense-v1 is out of date. You should consider upgrading to version `v2`.\u001b[0m\n",
      "  logger.deprecation(\n",
      "/home/akhters/.local/lib/python3.8/site-packages/gymnasium_robotics/envs/robot_env.py:361: UserWarning: \u001b[33mWARN: This version of the mujoco environments depends on the mujoco-py bindings, which are no longer maintained and may stop working. Please upgrade to the v4 versions of the environments (which depend on the mujoco python bindings instead), unless you are trying to precisely replicate previous works).\u001b[0m\n",
      "  logger.warn(\n"
     ]
    }
   ],
   "source": [
    "env=gym.make('FetchReachDense-v1', render_mode='rgb_array')"
   ]
  },
  {
   "cell_type": "code",
   "execution_count": null,
   "metadata": {},
   "outputs": [],
   "source": [
    "env.reset()\n",
    "#the value in the observation key refers to the joints of the robot that we can act on to change the position of the robot and they are the x, y and z co-oridnates\n",
    "#the value under the desired goal key refers to the x, y and z positions of the environment that we have to reach by moving our robot\n",
    "#the value under the achieved goal refers to the x, y and z position of the tipped of the robot that we have achieved at this moment of time\n",
    "#our goal is to make our achieved goal equal to the desired goal"
   ]
  },
  {
   "cell_type": "code",
   "execution_count": 7,
   "metadata": {},
   "outputs": [
    {
     "name": "stdout",
     "output_type": "stream",
     "text": [
      "Found 4 GPUs for rendering. Using device 0.\n"
     ]
    },
    {
     "data": {
      "image/png": "[encoded data removed]",
      "text/plain": [
       "<Figure size 1200x1200 with 1 Axes>"
      ]
     },
     "metadata": {},
     "output_type": "display_data"
    }
   ],
   "source": [
    "import matplotlib.pyplot as plt\n",
    "# Render the frame as an RGB array\n",
    "# env.step(env.action_space.sample())\n",
    "\n",
    "# Render the frame\n",
    "frame = env.render()\n",
    "\n",
    "# Display the frame using matplotlib\n",
    "plt.figure(figsize=(12,12))\n",
    "plt.imshow(frame)\n",
    "plt.show()"
   ]
  },
  {
   "cell_type": "code",
   "execution_count": null,
   "metadata": {},
   "outputs": [],
   "source": [
    "env.action_space\n",
    "#our action space consists of four values, between -1.0 to 1.0\n",
    "#each of the values decides how much torque we are going to apply to each of the joints \n",
    "# and the last one is how much torque we are applying on the tip of the gripper to open it and close it so that the robot can grab objects\n",
    "#now this environment has 2 flavours, every time we move our robot, the reward will be -1 until we touch the red dot with our gripper\n",
    "#this kind of reward function is basically called sparse rewards because only time we achieve reward above the baseline is actually when we reach the goal\n",
    "#but this version of an environment is an easier one, we are using dense rewards, that is, every time we move our robot, the agent will get a reward proportional to the distance to the goal\n",
    "#it will be negative value and as the tip of the robot moves closer to the goal position, the negative reward will decrease and upon reaching the goal position, the reward will be 0\n",
    "#envrionments with dense rewards are easier to config because they get a constant feedback from the environment, and they can till learn without waiting even if they haven't performed the task correcly before\n",
    "#when we work with dense rewards, we don't need the achieved_goal values, we only need information about the joints of the robots and the desired_goal values.\n",
    "#this achieved_goal key will be used in the next algorithm, when we consider sparse reward values using hindsight experience replay technique"
   ]
  },
  {
   "cell_type": "code",
   "execution_count": 6,
   "metadata": {
    "id": "sShXogWB_o-N"
   },
   "outputs": [],
   "source": [
    "class RepeatActionWrapper(gym.Wrapper):\n",
    "  def __init__(self, env, n):\n",
    "    super().__init__(env)\n",
    "    self.env = env\n",
    "    self.n = n\n",
    "      \n",
    "  def step(self, action):\n",
    "    done = False\n",
    "    total_reward = 0.0\n",
    "    for _ in range(self.n):\n",
    "      next_state, reward, done, info = self.env.step(action)\n",
    "      total_reward += reward\n",
    "      if done:\n",
    "        break\n",
    "    return next_state, total_reward, done, info"
   ]
  },
  {
   "cell_type": "code",
   "execution_count": 7,
   "metadata": {
    "id": "r6_QhEyBNSrM"
   },
   "outputs": [],
   "source": [
    "def create_environment(name):\n",
    "  env = gym.make(name, render_mode='rgb_array')\n",
    "  # env = TimeLimit(env, max_episode_steps=400)\n",
    "  #the following two are the just modifications to our observation so that our algorithm can process them\n",
    "  env = FilterObservation(env, ['observation', 'desired_goal'])#we only need two keys observation\n",
    "  env = FlattenObservation(env)#we don't want a dictionary representation, we want a flat array that consists of an array containing the valuse of observation and an array containing the values of desired_goal\n",
    "  env = RecordVideo(env, video_folder='./videos3', episode_trigger=lambda x: x % 50 == 0)\n",
    "  # env = RepeatActionWrapper(env, n=4)\n",
    "  env = RecordEpisodeStatistics(env)\n",
    "  return env"
   ]
  },
  {
   "cell_type": "code",
   "execution_count": null,
   "metadata": {},
   "outputs": [],
   "source": [
    "env = create_environment('FetchReachDense-v1')\n",
    "hello, _=env.reset()\n",
    "next_obs, reward, done, info, _= env.step(env.action_space.sample())\n",
    "print(next_obs)\n",
    "print(reward)\n",
    "print(done)\n",
    "print(info)\n",
    "print(_)"
   ]
  },
  {
   "cell_type": "code",
   "execution_count": null,
   "metadata": {},
   "outputs": [],
   "source": [
    "hello"
   ]
  },
  {
   "cell_type": "code",
   "execution_count": null,
   "metadata": {},
   "outputs": [],
   "source": [
    "print(type(hello))"
   ]
  },
  {
   "cell_type": "code",
   "execution_count": null,
   "metadata": {},
   "outputs": [],
   "source": [
    "hello[0]"
   ]
  },
  {
   "cell_type": "markdown",
   "metadata": {
    "id": "b8fKGgFzQ4EX"
   },
   "source": [
    "#### Update the target network"
   ]
  },
  {
   "cell_type": "code",
   "execution_count": 8,
   "metadata": {
    "id": "-q-OJaPnBvKf"
   },
   "outputs": [],
   "source": [
    "def polyak_average(net, target_net, tau=0.01):\n",
    "    for qp, tp in zip(net.parameters(), target_net.parameters()):\n",
    "        tp.data.copy_(tau * qp.data + (1 - tau) * tp.data)"
   ]
  },
  {
   "cell_type": "markdown",
   "metadata": {
    "id": "7KipG5q0vAKi"
   },
   "source": [
    "#### Create the Deep Q-Network"
   ]
  },
  {
   "cell_type": "code",
   "execution_count": 9,
   "metadata": {
    "id": "V_l-HLfxtunM"
   },
   "outputs": [],
   "source": [
    "class DQN(nn.Module):\n",
    "\n",
    "  def __init__(self, hidden_size, obs_size, out_dims):\n",
    "    super().__init__()\n",
    "    self.net = nn.Sequential(\n",
    "        nn.Linear(obs_size + out_dims, hidden_size),\n",
    "        nn.ReLU(),\n",
    "        nn.Linear(hidden_size, hidden_size),\n",
    "        nn.ReLU(),           \n",
    "        nn.Linear(hidden_size, 1),\n",
    "    )\n",
    "\n",
    "  def forward(self, state, action):\n",
    "    if isinstance(state, np.ndarray):\n",
    "      state = torch.from_numpy(state).to(device)\n",
    "    if isinstance(action, np.ndarray):\n",
    "      action = torch.from_numpy(action).to(device)\n",
    "    in_vector = torch.hstack((state, action))\n",
    "    return self.net(in_vector.float())"
   ]
  },
  {
   "cell_type": "markdown",
   "metadata": {
    "id": "zIkXBOhtug5p"
   },
   "source": [
    "#### Create the gradient policy"
   ]
  },
  {
   "cell_type": "code",
   "execution_count": 10,
   "metadata": {
    "id": "noMyzZ5DyOdQ"
   },
   "outputs": [],
   "source": [
    "class GradientPolicy(nn.Module):\n",
    "\n",
    "  def __init__(self, hidden_size, obs_size, out_dims, max):\n",
    "    super().__init__()\n",
    "\n",
    "    self.max = torch.from_numpy(max).to(device)\n",
    "\n",
    "    self.net = nn.Sequential(\n",
    "        nn.Linear(obs_size, hidden_size),\n",
    "        nn.ReLU(),\n",
    "        nn.Linear(hidden_size, hidden_size),\n",
    "        nn.ReLU()\n",
    "    )\n",
    "    self.linear_mu = nn.Linear(hidden_size, out_dims)\n",
    "    self.linear_std = nn.Linear(hidden_size, out_dims)\n",
    "    # self.linear_log_std = nn.Linear(hidden_size, out_dims)\n",
    "\n",
    "  def forward(self, obs):\n",
    "    if isinstance(obs, np.ndarray):\n",
    "      obs = torch.from_numpy(obs).to(device)\n",
    "    x = self.net(obs.float())\n",
    "    mu = self.linear_mu(x)\n",
    "    std = self.linear_std(x)\n",
    "    std = F.softplus(std) + 1e-3#ensurse that this value stays positive\n",
    "\n",
    "    dist = Normal(mu, std)\n",
    "    action = dist.rsample()\n",
    "    log_prob = dist.log_prob(action)#actions->[v1, v2, v3, v4]\n",
    "    #we will get 4 values of log_prob, that is, log of probability of each of the values in the action array\n",
    "    #but what we want is a value of log_prob of the whole action array itself, the following performs this computation\n",
    "    log_prob = log_prob.sum(dim=-1, keepdim=True)#dim=-1(we wish to mantain batches, and that is why we are giving dimension=-1, which is the last dimension, dimension 1 will be the batch size\n",
    "    #and we want to add together only the probablilities of the same row)\n",
    "    log_prob -= (2* (np.log(2) - action - F.softplus(-2*action))).sum(dim=-1, keepdim=True)\n",
    "    #the probability of taking an action goes from 0 to 1, which means the log of probabilities goes from -ve infinity to zero. if the probability of selecting that action is very close to zero\n",
    "    #the logarithm of it will be huge negative number and that can cause numerical instability in the learning process. To solve it, in the research paper where they introduced the soft-actor critc algorithm,\n",
    "    #they described the above operation to make the log probabilities more stable\n",
    "    action = torch.tanh(action) * self.max#bringing the values of action withing the allowed range of actions\n",
    "    return action, log_prob"
   ]
  },
  {
   "cell_type": "markdown",
   "metadata": {
    "id": "xTZH7WwlvKQ8"
   },
   "source": [
    "#### Soft actor-critic algorithm"
   ]
  },
  {
   "cell_type": "code",
   "execution_count": 11,
   "metadata": {
    "id": "GZcn2-X4yOfz"
   },
   "outputs": [],
   "source": [
    "class SAC(LightningModule):\n",
    "\n",
    "  def __init__(self, env_name, capacity=100_000, batch_size=256, lr=1e-3, \n",
    "               hidden_size=256, gamma=0.99, loss_fn=F.smooth_l1_loss, optim=AdamW, \n",
    "               samples_per_epoch=1_000, tau=0.05, alpha=0.02, epsilon=0.05):\n",
    "    \n",
    "    super().__init__()\n",
    "    # print(\"Inside __init__ function\")\n",
    "    self.automatic_optimization = False  # Disable automatic optimization\n",
    "    self.env = create_environment(env_name)\n",
    "\n",
    "    obs_size = self.env.observation_space.shape[0]\n",
    "    action_dims = self.env.action_space.shape[0]\n",
    "    max_action = self.env.action_space.high\n",
    "\n",
    "    self.q_net1 = DQN(hidden_size, obs_size, action_dims)\n",
    "    self.q_net2 = DQN(hidden_size, obs_size, action_dims)\n",
    "    self.policy = GradientPolicy(hidden_size, obs_size, action_dims, max_action)\n",
    "\n",
    "    self.target_policy = copy.deepcopy(self.policy)\n",
    "    self.target_q_net1 = copy.deepcopy(self.q_net1)\n",
    "    self.target_q_net2 = copy.deepcopy(self.q_net2)\n",
    "\n",
    "    self.buffer = ReplayBuffer(capacity=capacity)\n",
    "\n",
    "    self.save_hyperparameters()\n",
    "\n",
    "    while len(self.buffer) < self.hparams.samples_per_epoch:\n",
    "      print(f\"{len(self.buffer)} samples in experience buffer. Filling...\")\n",
    "      self.play_episodes()\n",
    "\n",
    "  @torch.no_grad()\n",
    "  def play_episodes(self, policy=None):\n",
    "      # print(\"Inside play_episode\")\n",
    "      obs, _ = self.env.reset()\n",
    "      done = False\n",
    "      truncate = False\n",
    "      # i=0\n",
    "      while not (done or truncate):\n",
    "        if policy and random.random() > self.hparams.epsilon:\n",
    "          action, _ = self.policy(obs)\n",
    "          action = action.cpu().numpy()\n",
    "        else:\n",
    "          action = self.env.action_space.sample()\n",
    "        # print(f\"Inside this loop {i}\")\n",
    "        next_obs, reward, done, truncate, info = self.env.step(action)\n",
    "        exp = (obs, action, reward, done, next_obs)\n",
    "        self.buffer.append(exp)\n",
    "        obs = next_obs\n",
    "        # if len(self.buffer) >= self.hparams.samples_per_epoch:\n",
    "          # print(f\"Buffer filled with {len(self.buffer)} samples.\")\n",
    "          # break\n",
    "        # print(f\"Value of truncate is {truncate} and i is {i}\")\n",
    "        # i+=1\n",
    "\n",
    "  def forward(self, x):\n",
    "    output = self.policy(x)\n",
    "    return output\n",
    "\n",
    "  def configure_optimizers(self):\n",
    "    # print(\"Iniside configure_optimizers function\")\n",
    "    # q_net_parameters = itertools.chain(self.q_net1.parameters(), self.q_net2.parameters())\n",
    "    # q_net_optimizer = self.hparams.optim(q_net_parameters, lr=self.hparams.lr)\n",
    "    q_net1_optimizer = self.hparams.optim(self.q_net1.parameters(), lr=self.hparams.lr)\n",
    "    q_net2_optimizer = self.hparams.optim(self.q_net2.parameters(), lr=self.hparams.lr)\n",
    "    policy_optimizer = self.hparams.optim(self.policy.parameters(), lr=self.hparams.lr)\n",
    "    return [q_net1_optimizer, q_net2_optimizer, policy_optimizer]\n",
    "\n",
    "  def train_dataloader(self):\n",
    "    # print(\"Inside train_dataloader function\")\n",
    "    dataset = RLDataset(self.buffer, self.hparams.samples_per_epoch)\n",
    "    dataloader = DataLoader(\n",
    "        dataset=dataset,\n",
    "        batch_size=self.hparams.batch_size,\n",
    "    )\n",
    "    return dataloader\n",
    "\n",
    "  def training_step(self, batch, batch_idx):\n",
    "    # print(\"Inside traning_step function\")\n",
    "    states, actions, rewards, dones, next_states = batch\n",
    "    rewards = rewards.unsqueeze(1)\n",
    "    dones = dones.unsqueeze(1)\n",
    "\n",
    "    # if optimizer_idx == 0:\n",
    "\n",
    "    action_values1 = self.q_net1(states, actions)\n",
    "    action_values2 = self.q_net2(states, actions)\n",
    "\n",
    "    target_actions, target_log_probs = self.target_policy(next_states)\n",
    "\n",
    "    next_action_values = torch.min(\n",
    "        self.target_q_net1(next_states, target_actions),\n",
    "        self.target_q_net2(next_states, target_actions)\n",
    "    )\n",
    "    next_action_values[dones] = 0.0\n",
    "\n",
    "    expected_action_values = rewards + self.hparams.gamma * (next_action_values - self.hparams.alpha * target_log_probs)\n",
    "    #- self.hparams.alpha * target_log_probs)= this will be a positive value. The lesser the probability, the bigger will be this positive value and the larger the bonus we will be adding for this action\n",
    "    opt_q_net1, opt_q_net2, opt_policy = self.optimizers()\n",
    "    q_loss1 = self.hparams.loss_fn(action_values1, expected_action_values)\n",
    "    q_loss2 = self.hparams.loss_fn(action_values2, expected_action_values)\n",
    "    opt_q_net1.zero_grad()\n",
    "    q_loss1.backward(retain_graph=True)\n",
    "    opt_q_net1.step()\n",
    "    opt_q_net2.zero_grad()\n",
    "    q_loss2.backward()\n",
    "    opt_q_net2.step()\n",
    "    q_loss_total = q_loss1 + q_loss2\n",
    "    self.log(\"episode/Q-Loss\", q_loss_total)\n",
    "    \n",
    "\n",
    "  # elif optimizer_idx == 1:\n",
    "\n",
    "    actions, log_probs = self.policy(states)\n",
    "\n",
    "    action_values = torch.min(\n",
    "        self.q_net1(states, actions),\n",
    "        self.q_net2(states, actions)\n",
    "    )\n",
    "\n",
    "    policy_loss = (self.hparams.alpha * log_probs - action_values).mean()#we are trying to maximise the action values as much as possible while keeping the probability of selecting \n",
    "    #unfrequent actions fairly high\n",
    "    opt_policy.zero_grad()\n",
    "    policy_loss.backward()\n",
    "    opt_policy.step()\n",
    "    self.log(\"episode/Policy Loss\", policy_loss)\n",
    "    \n",
    "\n",
    "  def on_train_epoch_end(self):\n",
    "    # print(\"Inside on_train_epoch_end function\")\n",
    "    self.play_episodes(policy=self.policy)\n",
    "\n",
    "    polyak_average(self.q_net1, self.target_q_net1, tau=self.hparams.tau)\n",
    "    polyak_average(self.q_net2, self.target_q_net2, tau=self.hparams.tau)\n",
    "    polyak_average(self.policy, self.target_policy, tau=self.hparams.tau)\n",
    "\n",
    "    self.log(\"episode/episode_return\", float(self.env.return_queue[-1]))"
   ]
  },
  {
   "cell_type": "code",
   "execution_count": 12,
   "metadata": {
    "id": "D_wtApvqyOh5"
   },
   "outputs": [
    {
     "name": "stdout",
     "output_type": "stream",
     "text": [
      "rm: cannot remove '/content/lightning_logs/': No such file or directory\n",
      "rm: cannot remove '/content/videos/': No such file or directory\n"
     ]
    },
    {
     "data": {
      "text/plain": [
       "ERROR: Failed to start `tensorboard`: [Errno 8] Exec format error:\n",
       "'tensorboard'"
      ]
     },
     "metadata": {},
     "output_type": "display_data"
    }
   ],
   "source": [
    "# Start tensorboard.\n",
    "!rm -r /content/lightning_logs/\n",
    "!rm -r /content/videos/\n",
    "%load_ext tensorboard\n",
    "%tensorboard --logdir /content/lightning_logs/"
   ]
  },
  {
   "cell_type": "code",
   "execution_count": 23,
   "metadata": {},
   "outputs": [
    {
     "name": "stdout",
     "output_type": "stream",
     "text": [
      "True\n"
     ]
    }
   ],
   "source": [
    "import torch\n",
    "print(torch.cuda.is_available()) "
   ]
  },
  {
   "cell_type": "code",
   "execution_count": 13,
   "metadata": {
    "id": "YNu1BWZBQGTg"
   },
   "outputs": [
    {
     "name": "stderr",
     "output_type": "stream",
     "text": [
      "/home/akhters/.local/lib/python3.8/site-packages/gymnasium/envs/registration.py:513: DeprecationWarning: \u001b[33mWARN: The environment FetchReachDense-v1 is out of date. You should consider upgrading to version `v2`.\u001b[0m\n",
      "  logger.deprecation(\n",
      "/home/akhters/.local/lib/python3.8/site-packages/gymnasium_robotics/envs/robot_env.py:361: UserWarning: \u001b[33mWARN: This version of the mujoco environments depends on the mujoco-py bindings, which are no longer maintained and may stop working. Please upgrade to the v4 versions of the environments (which depend on the mujoco python bindings instead), unless you are trying to precisely replicate previous works).\u001b[0m\n",
      "  logger.warn(\n",
      "/home/akhters/.local/lib/python3.8/site-packages/gymnasium/wrappers/record_video.py:94: UserWarning: \u001b[33mWARN: Overwriting existing videos at /home/akhters/Reinforcement Learning/advanced_rl_dqn_to_sac_complete-main/videos3 folder (try specifying a different `video_folder` for the `RecordVideo` wrapper if this is not desired)\u001b[0m\n",
      "  logger.warn(\n"
     ]
    },
    {
     "name": "stdout",
     "output_type": "stream",
     "text": [
      "0 samples in experience buffer. Filling...\n",
      "Found 4 GPUs for rendering. Using device 0.\n",
      "Moviepy - Building video /home/akhters/Reinforcement Learning/advanced_rl_dqn_to_sac_complete-main/videos3/rl-video-episode-0.mp4.\n",
      "Moviepy - Writing video /home/akhters/Reinforcement Learning/advanced_rl_dqn_to_sac_complete-main/videos3/rl-video-episode-0.mp4\n",
      "\n"
     ]
    },
    {
     "name": "stderr",
     "output_type": "stream",
     "text": [
      "                                                             \r"
     ]
    },
    {
     "name": "stdout",
     "output_type": "stream",
     "text": [
      "Moviepy - Done !\n",
      "Moviepy - video ready /home/akhters/Reinforcement Learning/advanced_rl_dqn_to_sac_complete-main/videos3/rl-video-episode-0.mp4\n",
      "50 samples in experience buffer. Filling...\n",
      "100 samples in experience buffer. Filling...\n",
      "150 samples in experience buffer. Filling...\n",
      "200 samples in experience buffer. Filling...\n",
      "250 samples in experience buffer. Filling...\n",
      "300 samples in experience buffer. Filling...\n",
      "350 samples in experience buffer. Filling...\n",
      "400 samples in experience buffer. Filling...\n",
      "450 samples in experience buffer. Filling...\n",
      "500 samples in experience buffer. Filling...\n",
      "550 samples in experience buffer. Filling...\n",
      "600 samples in experience buffer. Filling...\n",
      "650 samples in experience buffer. Filling...\n",
      "700 samples in experience buffer. Filling...\n",
      "750 samples in experience buffer. Filling...\n",
      "800 samples in experience buffer. Filling...\n",
      "850 samples in experience buffer. Filling...\n",
      "900 samples in experience buffer. Filling...\n",
      "950 samples in experience buffer. Filling...\n"
     ]
    },
    {
     "name": "stderr",
     "output_type": "stream",
     "text": [
      "GPU available: True (cuda), used: True\n",
      "TPU available: False, using: 0 TPU cores\n",
      "HPU available: False, using: 0 HPUs\n",
      "You are using a CUDA device ('NVIDIA GeForce RTX 3060 Laptop GPU') that has Tensor Cores. To properly utilize them, you should set `torch.set_float32_matmul_precision('medium' | 'high')` which will trade-off precision for performance. For more details, read https://pytorch.org/docs/stable/generated/torch.set_float32_matmul_precision.html#torch.set_float32_matmul_precision\n",
      "2024-07-06 01:19:26.586857: I tensorflow/core/platform/cpu_feature_guard.cc:182] This TensorFlow binary is optimized to use available CPU instructions in performance-critical operations.\n",
      "To enable the following instructions: AVX2 FMA, in other operations, rebuild TensorFlow with the appropriate compiler flags.\n",
      "2024-07-06 01:19:27.687660: W tensorflow/compiler/tf2tensorrt/utils/py_utils.cc:38] TF-TRT Warning: Could not find TensorRT\n",
      "LOCAL_RANK: 0 - CUDA_VISIBLE_DEVICES: [0]\n",
      "\n",
      "  | Name          | Type           | Params | Mode \n",
      "---------------------------------------------------------\n",
      "0 | q_net1        | DQN            | 70.7 K | train\n",
      "1 | q_net2        | DQN            | 70.7 K | train\n",
      "2 | policy        | GradientPolicy | 71.4 K | train\n",
      "3 | target_policy | GradientPolicy | 71.4 K | train\n",
      "4 | target_q_net1 | DQN            | 70.7 K | train\n",
      "5 | target_q_net2 | DQN            | 70.7 K | train\n",
      "---------------------------------------------------------\n",
      "425 K     Trainable params\n",
      "0         Non-trainable params\n",
      "425 K     Total params\n",
      "1.702     Total estimated model params size (MB)\n",
      "/home/akhters/.local/lib/python3.8/site-packages/pytorch_lightning/trainer/connectors/data_connector.py:424: The 'train_dataloader' does not have many workers which may be a bottleneck. Consider increasing the value of the `num_workers` argument` to `num_workers=15` in the `DataLoader` to improve performance.\n"
     ]
    },
    {
     "data": {
      "application/vnd.jupyter.widget-view+json": {
       "model_id": "549387b97b034ebd9b9499dbfe203ef6",
       "version_major": 2,
       "version_minor": 0
      },
      "text/plain": [
       "Training: |          | 0/? [00:00<?, ?it/s]"
      ]
     },
     "metadata": {},
     "output_type": "display_data"
    },
    {
     "name": "stdout",
     "output_type": "stream",
     "text": [
      "Moviepy - Building video /home/akhters/Reinforcement Learning/advanced_rl_dqn_to_sac_complete-main/videos3/rl-video-episode-50.mp4.\n",
      "Moviepy - Writing video /home/akhters/Reinforcement Learning/advanced_rl_dqn_to_sac_complete-main/videos3/rl-video-episode-50.mp4\n",
      "\n"
     ]
    },
    {
     "name": "stderr",
     "output_type": "stream",
     "text": []
    },
    {
     "name": "stdout",
     "output_type": "stream",
     "text": [
      "Moviepy - Done !\n",
      "Moviepy - video ready /home/akhters/Reinforcement Learning/advanced_rl_dqn_to_sac_complete-main/videos3/rl-video-episode-50.mp4\n",
      "Moviepy - Building video /home/akhters/Reinforcement Learning/advanced_rl_dqn_to_sac_complete-main/videos3/rl-video-episode-100.mp4.\n",
      "Moviepy - Writing video /home/akhters/Reinforcement Learning/advanced_rl_dqn_to_sac_complete-main/videos3/rl-video-episode-100.mp4\n",
      "\n"
     ]
    },
    {
     "name": "stderr",
     "output_type": "stream",
     "text": []
    },
    {
     "name": "stdout",
     "output_type": "stream",
     "text": [
      "Moviepy - Done !\n",
      "Moviepy - video ready /home/akhters/Reinforcement Learning/advanced_rl_dqn_to_sac_complete-main/videos3/rl-video-episode-100.mp4\n",
      "Moviepy - Building video /home/akhters/Reinforcement Learning/advanced_rl_dqn_to_sac_complete-main/videos3/rl-video-episode-150.mp4.\n",
      "Moviepy - Writing video /home/akhters/Reinforcement Learning/advanced_rl_dqn_to_sac_complete-main/videos3/rl-video-episode-150.mp4\n",
      "\n"
     ]
    },
    {
     "name": "stderr",
     "output_type": "stream",
     "text": []
    },
    {
     "name": "stdout",
     "output_type": "stream",
     "text": [
      "Moviepy - Done !\n",
      "Moviepy - video ready /home/akhters/Reinforcement Learning/advanced_rl_dqn_to_sac_complete-main/videos3/rl-video-episode-150.mp4\n",
      "Moviepy - Building video /home/akhters/Reinforcement Learning/advanced_rl_dqn_to_sac_complete-main/videos3/rl-video-episode-200.mp4.\n",
      "Moviepy - Writing video /home/akhters/Reinforcement Learning/advanced_rl_dqn_to_sac_complete-main/videos3/rl-video-episode-200.mp4\n",
      "\n"
     ]
    },
    {
     "name": "stderr",
     "output_type": "stream",
     "text": []
    },
    {
     "name": "stdout",
     "output_type": "stream",
     "text": [
      "Moviepy - Done !\n",
      "Moviepy - video ready /home/akhters/Reinforcement Learning/advanced_rl_dqn_to_sac_complete-main/videos3/rl-video-episode-200.mp4\n",
      "Moviepy - Building video /home/akhters/Reinforcement Learning/advanced_rl_dqn_to_sac_complete-main/videos3/rl-video-episode-250.mp4.\n",
      "Moviepy - Writing video /home/akhters/Reinforcement Learning/advanced_rl_dqn_to_sac_complete-main/videos3/rl-video-episode-250.mp4\n",
      "\n"
     ]
    },
    {
     "name": "stderr",
     "output_type": "stream",
     "text": []
    },
    {
     "name": "stdout",
     "output_type": "stream",
     "text": [
      "Moviepy - Done !\n",
      "Moviepy - video ready /home/akhters/Reinforcement Learning/advanced_rl_dqn_to_sac_complete-main/videos3/rl-video-episode-250.mp4\n",
      "Moviepy - Building video /home/akhters/Reinforcement Learning/advanced_rl_dqn_to_sac_complete-main/videos3/rl-video-episode-300.mp4.\n",
      "Moviepy - Writing video /home/akhters/Reinforcement Learning/advanced_rl_dqn_to_sac_complete-main/videos3/rl-video-episode-300.mp4\n",
      "\n"
     ]
    },
    {
     "name": "stderr",
     "output_type": "stream",
     "text": []
    },
    {
     "name": "stdout",
     "output_type": "stream",
     "text": [
      "Moviepy - Done !\n",
      "Moviepy - video ready /home/akhters/Reinforcement Learning/advanced_rl_dqn_to_sac_complete-main/videos3/rl-video-episode-300.mp4\n",
      "Moviepy - Building video /home/akhters/Reinforcement Learning/advanced_rl_dqn_to_sac_complete-main/videos3/rl-video-episode-350.mp4.\n",
      "Moviepy - Writing video /home/akhters/Reinforcement Learning/advanced_rl_dqn_to_sac_complete-main/videos3/rl-video-episode-350.mp4\n",
      "\n"
     ]
    },
    {
     "name": "stderr",
     "output_type": "stream",
     "text": []
    },
    {
     "name": "stdout",
     "output_type": "stream",
     "text": [
      "Moviepy - Done !\n",
      "Moviepy - video ready /home/akhters/Reinforcement Learning/advanced_rl_dqn_to_sac_complete-main/videos3/rl-video-episode-350.mp4\n",
      "Moviepy - Building video /home/akhters/Reinforcement Learning/advanced_rl_dqn_to_sac_complete-main/videos3/rl-video-episode-400.mp4.\n",
      "Moviepy - Writing video /home/akhters/Reinforcement Learning/advanced_rl_dqn_to_sac_complete-main/videos3/rl-video-episode-400.mp4\n",
      "\n"
     ]
    },
    {
     "name": "stderr",
     "output_type": "stream",
     "text": []
    },
    {
     "name": "stdout",
     "output_type": "stream",
     "text": [
      "Moviepy - Done !\n",
      "Moviepy - video ready /home/akhters/Reinforcement Learning/advanced_rl_dqn_to_sac_complete-main/videos3/rl-video-episode-400.mp4\n",
      "Moviepy - Building video /home/akhters/Reinforcement Learning/advanced_rl_dqn_to_sac_complete-main/videos3/rl-video-episode-450.mp4.\n",
      "Moviepy - Writing video /home/akhters/Reinforcement Learning/advanced_rl_dqn_to_sac_complete-main/videos3/rl-video-episode-450.mp4\n",
      "\n"
     ]
    },
    {
     "name": "stderr",
     "output_type": "stream",
     "text": []
    },
    {
     "name": "stdout",
     "output_type": "stream",
     "text": [
      "Moviepy - Done !\n",
      "Moviepy - video ready /home/akhters/Reinforcement Learning/advanced_rl_dqn_to_sac_complete-main/videos3/rl-video-episode-450.mp4\n",
      "Moviepy - Building video /home/akhters/Reinforcement Learning/advanced_rl_dqn_to_sac_complete-main/videos3/rl-video-episode-500.mp4.\n",
      "Moviepy - Writing video /home/akhters/Reinforcement Learning/advanced_rl_dqn_to_sac_complete-main/videos3/rl-video-episode-500.mp4\n",
      "\n"
     ]
    },
    {
     "name": "stderr",
     "output_type": "stream",
     "text": []
    },
    {
     "name": "stdout",
     "output_type": "stream",
     "text": [
      "Moviepy - Done !\n",
      "Moviepy - video ready /home/akhters/Reinforcement Learning/advanced_rl_dqn_to_sac_complete-main/videos3/rl-video-episode-500.mp4\n",
      "Moviepy - Building video /home/akhters/Reinforcement Learning/advanced_rl_dqn_to_sac_complete-main/videos3/rl-video-episode-550.mp4.\n",
      "Moviepy - Writing video /home/akhters/Reinforcement Learning/advanced_rl_dqn_to_sac_complete-main/videos3/rl-video-episode-550.mp4\n",
      "\n"
     ]
    },
    {
     "name": "stderr",
     "output_type": "stream",
     "text": []
    },
    {
     "name": "stdout",
     "output_type": "stream",
     "text": [
      "Moviepy - Done !\n",
      "Moviepy - video ready /home/akhters/Reinforcement Learning/advanced_rl_dqn_to_sac_complete-main/videos3/rl-video-episode-550.mp4\n",
      "Moviepy - Building video /home/akhters/Reinforcement Learning/advanced_rl_dqn_to_sac_complete-main/videos3/rl-video-episode-600.mp4.\n",
      "Moviepy - Writing video /home/akhters/Reinforcement Learning/advanced_rl_dqn_to_sac_complete-main/videos3/rl-video-episode-600.mp4\n",
      "\n"
     ]
    },
    {
     "name": "stderr",
     "output_type": "stream",
     "text": []
    },
    {
     "name": "stdout",
     "output_type": "stream",
     "text": [
      "Moviepy - Done !\n",
      "Moviepy - video ready /home/akhters/Reinforcement Learning/advanced_rl_dqn_to_sac_complete-main/videos3/rl-video-episode-600.mp4\n",
      "Moviepy - Building video /home/akhters/Reinforcement Learning/advanced_rl_dqn_to_sac_complete-main/videos3/rl-video-episode-650.mp4.\n",
      "Moviepy - Writing video /home/akhters/Reinforcement Learning/advanced_rl_dqn_to_sac_complete-main/videos3/rl-video-episode-650.mp4\n",
      "\n"
     ]
    },
    {
     "name": "stderr",
     "output_type": "stream",
     "text": []
    },
    {
     "name": "stdout",
     "output_type": "stream",
     "text": [
      "Moviepy - Done !\n",
      "Moviepy - video ready /home/akhters/Reinforcement Learning/advanced_rl_dqn_to_sac_complete-main/videos3/rl-video-episode-650.mp4\n",
      "Moviepy - Building video /home/akhters/Reinforcement Learning/advanced_rl_dqn_to_sac_complete-main/videos3/rl-video-episode-700.mp4.\n",
      "Moviepy - Writing video /home/akhters/Reinforcement Learning/advanced_rl_dqn_to_sac_complete-main/videos3/rl-video-episode-700.mp4\n",
      "\n"
     ]
    },
    {
     "name": "stderr",
     "output_type": "stream",
     "text": []
    },
    {
     "name": "stdout",
     "output_type": "stream",
     "text": [
      "Moviepy - Done !\n",
      "Moviepy - video ready /home/akhters/Reinforcement Learning/advanced_rl_dqn_to_sac_complete-main/videos3/rl-video-episode-700.mp4\n",
      "Moviepy - Building video /home/akhters/Reinforcement Learning/advanced_rl_dqn_to_sac_complete-main/videos3/rl-video-episode-750.mp4.\n",
      "Moviepy - Writing video /home/akhters/Reinforcement Learning/advanced_rl_dqn_to_sac_complete-main/videos3/rl-video-episode-750.mp4\n",
      "\n"
     ]
    },
    {
     "name": "stderr",
     "output_type": "stream",
     "text": []
    },
    {
     "name": "stdout",
     "output_type": "stream",
     "text": [
      "Moviepy - Done !\n",
      "Moviepy - video ready /home/akhters/Reinforcement Learning/advanced_rl_dqn_to_sac_complete-main/videos3/rl-video-episode-750.mp4\n",
      "Moviepy - Building video /home/akhters/Reinforcement Learning/advanced_rl_dqn_to_sac_complete-main/videos3/rl-video-episode-800.mp4.\n",
      "Moviepy - Writing video /home/akhters/Reinforcement Learning/advanced_rl_dqn_to_sac_complete-main/videos3/rl-video-episode-800.mp4\n",
      "\n"
     ]
    },
    {
     "name": "stderr",
     "output_type": "stream",
     "text": []
    },
    {
     "name": "stdout",
     "output_type": "stream",
     "text": [
      "Moviepy - Done !\n",
      "Moviepy - video ready /home/akhters/Reinforcement Learning/advanced_rl_dqn_to_sac_complete-main/videos3/rl-video-episode-800.mp4\n",
      "Moviepy - Building video /home/akhters/Reinforcement Learning/advanced_rl_dqn_to_sac_complete-main/videos3/rl-video-episode-850.mp4.\n",
      "Moviepy - Writing video /home/akhters/Reinforcement Learning/advanced_rl_dqn_to_sac_complete-main/videos3/rl-video-episode-850.mp4\n",
      "\n"
     ]
    },
    {
     "name": "stderr",
     "output_type": "stream",
     "text": []
    },
    {
     "name": "stdout",
     "output_type": "stream",
     "text": [
      "Moviepy - Done !\n",
      "Moviepy - video ready /home/akhters/Reinforcement Learning/advanced_rl_dqn_to_sac_complete-main/videos3/rl-video-episode-850.mp4\n",
      "Moviepy - Building video /home/akhters/Reinforcement Learning/advanced_rl_dqn_to_sac_complete-main/videos3/rl-video-episode-900.mp4.\n",
      "Moviepy - Writing video /home/akhters/Reinforcement Learning/advanced_rl_dqn_to_sac_complete-main/videos3/rl-video-episode-900.mp4\n",
      "\n"
     ]
    },
    {
     "name": "stderr",
     "output_type": "stream",
     "text": []
    },
    {
     "name": "stdout",
     "output_type": "stream",
     "text": [
      "Moviepy - Done !\n",
      "Moviepy - video ready /home/akhters/Reinforcement Learning/advanced_rl_dqn_to_sac_complete-main/videos3/rl-video-episode-900.mp4\n",
      "Moviepy - Building video /home/akhters/Reinforcement Learning/advanced_rl_dqn_to_sac_complete-main/videos3/rl-video-episode-950.mp4.\n",
      "Moviepy - Writing video /home/akhters/Reinforcement Learning/advanced_rl_dqn_to_sac_complete-main/videos3/rl-video-episode-950.mp4\n",
      "\n"
     ]
    },
    {
     "name": "stderr",
     "output_type": "stream",
     "text": []
    },
    {
     "name": "stdout",
     "output_type": "stream",
     "text": [
      "Moviepy - Done !\n",
      "Moviepy - video ready /home/akhters/Reinforcement Learning/advanced_rl_dqn_to_sac_complete-main/videos3/rl-video-episode-950.mp4\n",
      "Moviepy - Building video /home/akhters/Reinforcement Learning/advanced_rl_dqn_to_sac_complete-main/videos3/rl-video-episode-1000.mp4.\n",
      "Moviepy - Writing video /home/akhters/Reinforcement Learning/advanced_rl_dqn_to_sac_complete-main/videos3/rl-video-episode-1000.mp4\n",
      "\n"
     ]
    },
    {
     "name": "stderr",
     "output_type": "stream",
     "text": []
    },
    {
     "name": "stdout",
     "output_type": "stream",
     "text": [
      "Moviepy - Done !\n",
      "Moviepy - video ready /home/akhters/Reinforcement Learning/advanced_rl_dqn_to_sac_complete-main/videos3/rl-video-episode-1000.mp4\n",
      "Moviepy - Building video /home/akhters/Reinforcement Learning/advanced_rl_dqn_to_sac_complete-main/videos3/rl-video-episode-1050.mp4.\n",
      "Moviepy - Writing video /home/akhters/Reinforcement Learning/advanced_rl_dqn_to_sac_complete-main/videos3/rl-video-episode-1050.mp4\n",
      "\n"
     ]
    },
    {
     "name": "stderr",
     "output_type": "stream",
     "text": []
    },
    {
     "name": "stdout",
     "output_type": "stream",
     "text": [
      "Moviepy - Done !\n",
      "Moviepy - video ready /home/akhters/Reinforcement Learning/advanced_rl_dqn_to_sac_complete-main/videos3/rl-video-episode-1050.mp4\n",
      "Moviepy - Building video /home/akhters/Reinforcement Learning/advanced_rl_dqn_to_sac_complete-main/videos3/rl-video-episode-1100.mp4.\n",
      "Moviepy - Writing video /home/akhters/Reinforcement Learning/advanced_rl_dqn_to_sac_complete-main/videos3/rl-video-episode-1100.mp4\n",
      "\n"
     ]
    },
    {
     "name": "stderr",
     "output_type": "stream",
     "text": []
    },
    {
     "name": "stdout",
     "output_type": "stream",
     "text": [
      "Moviepy - Done !\n",
      "Moviepy - video ready /home/akhters/Reinforcement Learning/advanced_rl_dqn_to_sac_complete-main/videos3/rl-video-episode-1100.mp4\n",
      "Moviepy - Building video /home/akhters/Reinforcement Learning/advanced_rl_dqn_to_sac_complete-main/videos3/rl-video-episode-1150.mp4.\n",
      "Moviepy - Writing video /home/akhters/Reinforcement Learning/advanced_rl_dqn_to_sac_complete-main/videos3/rl-video-episode-1150.mp4\n",
      "\n"
     ]
    },
    {
     "name": "stderr",
     "output_type": "stream",
     "text": []
    },
    {
     "name": "stdout",
     "output_type": "stream",
     "text": [
      "Moviepy - Done !\n",
      "Moviepy - video ready /home/akhters/Reinforcement Learning/advanced_rl_dqn_to_sac_complete-main/videos3/rl-video-episode-1150.mp4\n",
      "Moviepy - Building video /home/akhters/Reinforcement Learning/advanced_rl_dqn_to_sac_complete-main/videos3/rl-video-episode-1200.mp4.\n",
      "Moviepy - Writing video /home/akhters/Reinforcement Learning/advanced_rl_dqn_to_sac_complete-main/videos3/rl-video-episode-1200.mp4\n",
      "\n"
     ]
    },
    {
     "name": "stderr",
     "output_type": "stream",
     "text": []
    },
    {
     "name": "stdout",
     "output_type": "stream",
     "text": [
      "Moviepy - Done !\n",
      "Moviepy - video ready /home/akhters/Reinforcement Learning/advanced_rl_dqn_to_sac_complete-main/videos3/rl-video-episode-1200.mp4\n",
      "Moviepy - Building video /home/akhters/Reinforcement Learning/advanced_rl_dqn_to_sac_complete-main/videos3/rl-video-episode-1250.mp4.\n",
      "Moviepy - Writing video /home/akhters/Reinforcement Learning/advanced_rl_dqn_to_sac_complete-main/videos3/rl-video-episode-1250.mp4\n",
      "\n"
     ]
    },
    {
     "name": "stderr",
     "output_type": "stream",
     "text": []
    },
    {
     "name": "stdout",
     "output_type": "stream",
     "text": [
      "Moviepy - Done !\n",
      "Moviepy - video ready /home/akhters/Reinforcement Learning/advanced_rl_dqn_to_sac_complete-main/videos3/rl-video-episode-1250.mp4\n",
      "Moviepy - Building video /home/akhters/Reinforcement Learning/advanced_rl_dqn_to_sac_complete-main/videos3/rl-video-episode-1300.mp4.\n",
      "Moviepy - Writing video /home/akhters/Reinforcement Learning/advanced_rl_dqn_to_sac_complete-main/videos3/rl-video-episode-1300.mp4\n",
      "\n"
     ]
    },
    {
     "name": "stderr",
     "output_type": "stream",
     "text": []
    },
    {
     "name": "stdout",
     "output_type": "stream",
     "text": [
      "Moviepy - Done !\n",
      "Moviepy - video ready /home/akhters/Reinforcement Learning/advanced_rl_dqn_to_sac_complete-main/videos3/rl-video-episode-1300.mp4\n",
      "Moviepy - Building video /home/akhters/Reinforcement Learning/advanced_rl_dqn_to_sac_complete-main/videos3/rl-video-episode-1350.mp4.\n",
      "Moviepy - Writing video /home/akhters/Reinforcement Learning/advanced_rl_dqn_to_sac_complete-main/videos3/rl-video-episode-1350.mp4\n",
      "\n"
     ]
    },
    {
     "name": "stderr",
     "output_type": "stream",
     "text": []
    },
    {
     "name": "stdout",
     "output_type": "stream",
     "text": [
      "Moviepy - Done !\n",
      "Moviepy - video ready /home/akhters/Reinforcement Learning/advanced_rl_dqn_to_sac_complete-main/videos3/rl-video-episode-1350.mp4\n",
      "Moviepy - Building video /home/akhters/Reinforcement Learning/advanced_rl_dqn_to_sac_complete-main/videos3/rl-video-episode-1400.mp4.\n",
      "Moviepy - Writing video /home/akhters/Reinforcement Learning/advanced_rl_dqn_to_sac_complete-main/videos3/rl-video-episode-1400.mp4\n",
      "\n"
     ]
    },
    {
     "name": "stderr",
     "output_type": "stream",
     "text": []
    },
    {
     "name": "stdout",
     "output_type": "stream",
     "text": [
      "Moviepy - Done !\n",
      "Moviepy - video ready /home/akhters/Reinforcement Learning/advanced_rl_dqn_to_sac_complete-main/videos3/rl-video-episode-1400.mp4\n",
      "Moviepy - Building video /home/akhters/Reinforcement Learning/advanced_rl_dqn_to_sac_complete-main/videos3/rl-video-episode-1450.mp4.\n",
      "Moviepy - Writing video /home/akhters/Reinforcement Learning/advanced_rl_dqn_to_sac_complete-main/videos3/rl-video-episode-1450.mp4\n",
      "\n"
     ]
    },
    {
     "name": "stderr",
     "output_type": "stream",
     "text": []
    },
    {
     "name": "stdout",
     "output_type": "stream",
     "text": [
      "Moviepy - Done !\n",
      "Moviepy - video ready /home/akhters/Reinforcement Learning/advanced_rl_dqn_to_sac_complete-main/videos3/rl-video-episode-1450.mp4\n",
      "Moviepy - Building video /home/akhters/Reinforcement Learning/advanced_rl_dqn_to_sac_complete-main/videos3/rl-video-episode-1500.mp4.\n",
      "Moviepy - Writing video /home/akhters/Reinforcement Learning/advanced_rl_dqn_to_sac_complete-main/videos3/rl-video-episode-1500.mp4\n",
      "\n"
     ]
    },
    {
     "name": "stderr",
     "output_type": "stream",
     "text": []
    },
    {
     "name": "stdout",
     "output_type": "stream",
     "text": [
      "Moviepy - Done !\n",
      "Moviepy - video ready /home/akhters/Reinforcement Learning/advanced_rl_dqn_to_sac_complete-main/videos3/rl-video-episode-1500.mp4\n",
      "Moviepy - Building video /home/akhters/Reinforcement Learning/advanced_rl_dqn_to_sac_complete-main/videos3/rl-video-episode-1550.mp4.\n",
      "Moviepy - Writing video /home/akhters/Reinforcement Learning/advanced_rl_dqn_to_sac_complete-main/videos3/rl-video-episode-1550.mp4\n",
      "\n"
     ]
    },
    {
     "name": "stderr",
     "output_type": "stream",
     "text": []
    },
    {
     "name": "stdout",
     "output_type": "stream",
     "text": [
      "Moviepy - Done !\n",
      "Moviepy - video ready /home/akhters/Reinforcement Learning/advanced_rl_dqn_to_sac_complete-main/videos3/rl-video-episode-1550.mp4\n",
      "Moviepy - Building video /home/akhters/Reinforcement Learning/advanced_rl_dqn_to_sac_complete-main/videos3/rl-video-episode-1600.mp4.\n",
      "Moviepy - Writing video /home/akhters/Reinforcement Learning/advanced_rl_dqn_to_sac_complete-main/videos3/rl-video-episode-1600.mp4\n",
      "\n"
     ]
    },
    {
     "name": "stderr",
     "output_type": "stream",
     "text": []
    },
    {
     "name": "stdout",
     "output_type": "stream",
     "text": [
      "Moviepy - Done !\n",
      "Moviepy - video ready /home/akhters/Reinforcement Learning/advanced_rl_dqn_to_sac_complete-main/videos3/rl-video-episode-1600.mp4\n",
      "Moviepy - Building video /home/akhters/Reinforcement Learning/advanced_rl_dqn_to_sac_complete-main/videos3/rl-video-episode-1650.mp4.\n",
      "Moviepy - Writing video /home/akhters/Reinforcement Learning/advanced_rl_dqn_to_sac_complete-main/videos3/rl-video-episode-1650.mp4\n",
      "\n"
     ]
    },
    {
     "name": "stderr",
     "output_type": "stream",
     "text": []
    },
    {
     "name": "stdout",
     "output_type": "stream",
     "text": [
      "Moviepy - Done !\n",
      "Moviepy - video ready /home/akhters/Reinforcement Learning/advanced_rl_dqn_to_sac_complete-main/videos3/rl-video-episode-1650.mp4\n",
      "Moviepy - Building video /home/akhters/Reinforcement Learning/advanced_rl_dqn_to_sac_complete-main/videos3/rl-video-episode-1700.mp4.\n",
      "Moviepy - Writing video /home/akhters/Reinforcement Learning/advanced_rl_dqn_to_sac_complete-main/videos3/rl-video-episode-1700.mp4\n",
      "\n"
     ]
    },
    {
     "name": "stderr",
     "output_type": "stream",
     "text": []
    },
    {
     "name": "stdout",
     "output_type": "stream",
     "text": [
      "Moviepy - Done !\n",
      "Moviepy - video ready /home/akhters/Reinforcement Learning/advanced_rl_dqn_to_sac_complete-main/videos3/rl-video-episode-1700.mp4\n",
      "Moviepy - Building video /home/akhters/Reinforcement Learning/advanced_rl_dqn_to_sac_complete-main/videos3/rl-video-episode-1750.mp4.\n",
      "Moviepy - Writing video /home/akhters/Reinforcement Learning/advanced_rl_dqn_to_sac_complete-main/videos3/rl-video-episode-1750.mp4\n",
      "\n"
     ]
    },
    {
     "name": "stderr",
     "output_type": "stream",
     "text": []
    },
    {
     "name": "stdout",
     "output_type": "stream",
     "text": [
      "Moviepy - Done !\n",
      "Moviepy - video ready /home/akhters/Reinforcement Learning/advanced_rl_dqn_to_sac_complete-main/videos3/rl-video-episode-1750.mp4\n",
      "Moviepy - Building video /home/akhters/Reinforcement Learning/advanced_rl_dqn_to_sac_complete-main/videos3/rl-video-episode-1800.mp4.\n",
      "Moviepy - Writing video /home/akhters/Reinforcement Learning/advanced_rl_dqn_to_sac_complete-main/videos3/rl-video-episode-1800.mp4\n",
      "\n"
     ]
    },
    {
     "name": "stderr",
     "output_type": "stream",
     "text": []
    },
    {
     "name": "stdout",
     "output_type": "stream",
     "text": [
      "Moviepy - Done !\n",
      "Moviepy - video ready /home/akhters/Reinforcement Learning/advanced_rl_dqn_to_sac_complete-main/videos3/rl-video-episode-1800.mp4\n",
      "Moviepy - Building video /home/akhters/Reinforcement Learning/advanced_rl_dqn_to_sac_complete-main/videos3/rl-video-episode-1850.mp4.\n",
      "Moviepy - Writing video /home/akhters/Reinforcement Learning/advanced_rl_dqn_to_sac_complete-main/videos3/rl-video-episode-1850.mp4\n",
      "\n"
     ]
    },
    {
     "name": "stderr",
     "output_type": "stream",
     "text": []
    },
    {
     "name": "stdout",
     "output_type": "stream",
     "text": [
      "Moviepy - Done !\n",
      "Moviepy - video ready /home/akhters/Reinforcement Learning/advanced_rl_dqn_to_sac_complete-main/videos3/rl-video-episode-1850.mp4\n",
      "Moviepy - Building video /home/akhters/Reinforcement Learning/advanced_rl_dqn_to_sac_complete-main/videos3/rl-video-episode-1900.mp4.\n",
      "Moviepy - Writing video /home/akhters/Reinforcement Learning/advanced_rl_dqn_to_sac_complete-main/videos3/rl-video-episode-1900.mp4\n",
      "\n"
     ]
    },
    {
     "name": "stderr",
     "output_type": "stream",
     "text": []
    },
    {
     "name": "stdout",
     "output_type": "stream",
     "text": [
      "Moviepy - Done !\n",
      "Moviepy - video ready /home/akhters/Reinforcement Learning/advanced_rl_dqn_to_sac_complete-main/videos3/rl-video-episode-1900.mp4\n",
      "Moviepy - Building video /home/akhters/Reinforcement Learning/advanced_rl_dqn_to_sac_complete-main/videos3/rl-video-episode-1950.mp4.\n",
      "Moviepy - Writing video /home/akhters/Reinforcement Learning/advanced_rl_dqn_to_sac_complete-main/videos3/rl-video-episode-1950.mp4\n",
      "\n"
     ]
    },
    {
     "name": "stderr",
     "output_type": "stream",
     "text": []
    },
    {
     "name": "stdout",
     "output_type": "stream",
     "text": [
      "Moviepy - Done !\n",
      "Moviepy - video ready /home/akhters/Reinforcement Learning/advanced_rl_dqn_to_sac_complete-main/videos3/rl-video-episode-1950.mp4\n",
      "Moviepy - Building video /home/akhters/Reinforcement Learning/advanced_rl_dqn_to_sac_complete-main/videos3/rl-video-episode-2000.mp4.\n",
      "Moviepy - Writing video /home/akhters/Reinforcement Learning/advanced_rl_dqn_to_sac_complete-main/videos3/rl-video-episode-2000.mp4\n",
      "\n"
     ]
    },
    {
     "name": "stderr",
     "output_type": "stream",
     "text": []
    },
    {
     "name": "stdout",
     "output_type": "stream",
     "text": [
      "Moviepy - Done !\n",
      "Moviepy - video ready /home/akhters/Reinforcement Learning/advanced_rl_dqn_to_sac_complete-main/videos3/rl-video-episode-2000.mp4\n",
      "Moviepy - Building video /home/akhters/Reinforcement Learning/advanced_rl_dqn_to_sac_complete-main/videos3/rl-video-episode-2050.mp4.\n",
      "Moviepy - Writing video /home/akhters/Reinforcement Learning/advanced_rl_dqn_to_sac_complete-main/videos3/rl-video-episode-2050.mp4\n",
      "\n"
     ]
    },
    {
     "name": "stderr",
     "output_type": "stream",
     "text": []
    },
    {
     "name": "stdout",
     "output_type": "stream",
     "text": [
      "Moviepy - Done !\n",
      "Moviepy - video ready /home/akhters/Reinforcement Learning/advanced_rl_dqn_to_sac_complete-main/videos3/rl-video-episode-2050.mp4\n",
      "Moviepy - Building video /home/akhters/Reinforcement Learning/advanced_rl_dqn_to_sac_complete-main/videos3/rl-video-episode-2100.mp4.\n",
      "Moviepy - Writing video /home/akhters/Reinforcement Learning/advanced_rl_dqn_to_sac_complete-main/videos3/rl-video-episode-2100.mp4\n",
      "\n"
     ]
    },
    {
     "name": "stderr",
     "output_type": "stream",
     "text": []
    },
    {
     "name": "stdout",
     "output_type": "stream",
     "text": [
      "Moviepy - Done !\n",
      "Moviepy - video ready /home/akhters/Reinforcement Learning/advanced_rl_dqn_to_sac_complete-main/videos3/rl-video-episode-2100.mp4\n",
      "Moviepy - Building video /home/akhters/Reinforcement Learning/advanced_rl_dqn_to_sac_complete-main/videos3/rl-video-episode-2150.mp4.\n",
      "Moviepy - Writing video /home/akhters/Reinforcement Learning/advanced_rl_dqn_to_sac_complete-main/videos3/rl-video-episode-2150.mp4\n",
      "\n"
     ]
    },
    {
     "name": "stderr",
     "output_type": "stream",
     "text": []
    },
    {
     "name": "stdout",
     "output_type": "stream",
     "text": [
      "Moviepy - Done !\n",
      "Moviepy - video ready /home/akhters/Reinforcement Learning/advanced_rl_dqn_to_sac_complete-main/videos3/rl-video-episode-2150.mp4\n",
      "Moviepy - Building video /home/akhters/Reinforcement Learning/advanced_rl_dqn_to_sac_complete-main/videos3/rl-video-episode-2200.mp4.\n",
      "Moviepy - Writing video /home/akhters/Reinforcement Learning/advanced_rl_dqn_to_sac_complete-main/videos3/rl-video-episode-2200.mp4\n",
      "\n"
     ]
    },
    {
     "name": "stderr",
     "output_type": "stream",
     "text": []
    },
    {
     "name": "stdout",
     "output_type": "stream",
     "text": [
      "Moviepy - Done !\n",
      "Moviepy - video ready /home/akhters/Reinforcement Learning/advanced_rl_dqn_to_sac_complete-main/videos3/rl-video-episode-2200.mp4\n",
      "Moviepy - Building video /home/akhters/Reinforcement Learning/advanced_rl_dqn_to_sac_complete-main/videos3/rl-video-episode-2250.mp4.\n",
      "Moviepy - Writing video /home/akhters/Reinforcement Learning/advanced_rl_dqn_to_sac_complete-main/videos3/rl-video-episode-2250.mp4\n",
      "\n"
     ]
    },
    {
     "name": "stderr",
     "output_type": "stream",
     "text": []
    },
    {
     "name": "stdout",
     "output_type": "stream",
     "text": [
      "Moviepy - Done !\n",
      "Moviepy - video ready /home/akhters/Reinforcement Learning/advanced_rl_dqn_to_sac_complete-main/videos3/rl-video-episode-2250.mp4\n",
      "Moviepy - Building video /home/akhters/Reinforcement Learning/advanced_rl_dqn_to_sac_complete-main/videos3/rl-video-episode-2300.mp4.\n",
      "Moviepy - Writing video /home/akhters/Reinforcement Learning/advanced_rl_dqn_to_sac_complete-main/videos3/rl-video-episode-2300.mp4\n",
      "\n"
     ]
    },
    {
     "name": "stderr",
     "output_type": "stream",
     "text": []
    },
    {
     "name": "stdout",
     "output_type": "stream",
     "text": [
      "Moviepy - Done !\n",
      "Moviepy - video ready /home/akhters/Reinforcement Learning/advanced_rl_dqn_to_sac_complete-main/videos3/rl-video-episode-2300.mp4\n",
      "Moviepy - Building video /home/akhters/Reinforcement Learning/advanced_rl_dqn_to_sac_complete-main/videos3/rl-video-episode-2350.mp4.\n",
      "Moviepy - Writing video /home/akhters/Reinforcement Learning/advanced_rl_dqn_to_sac_complete-main/videos3/rl-video-episode-2350.mp4\n",
      "\n"
     ]
    },
    {
     "name": "stderr",
     "output_type": "stream",
     "text": []
    },
    {
     "name": "stdout",
     "output_type": "stream",
     "text": [
      "Moviepy - Done !\n",
      "Moviepy - video ready /home/akhters/Reinforcement Learning/advanced_rl_dqn_to_sac_complete-main/videos3/rl-video-episode-2350.mp4\n",
      "Moviepy - Building video /home/akhters/Reinforcement Learning/advanced_rl_dqn_to_sac_complete-main/videos3/rl-video-episode-2400.mp4.\n",
      "Moviepy - Writing video /home/akhters/Reinforcement Learning/advanced_rl_dqn_to_sac_complete-main/videos3/rl-video-episode-2400.mp4\n",
      "\n"
     ]
    },
    {
     "name": "stderr",
     "output_type": "stream",
     "text": []
    },
    {
     "name": "stdout",
     "output_type": "stream",
     "text": [
      "Moviepy - Done !\n",
      "Moviepy - video ready /home/akhters/Reinforcement Learning/advanced_rl_dqn_to_sac_complete-main/videos3/rl-video-episode-2400.mp4\n",
      "Moviepy - Building video /home/akhters/Reinforcement Learning/advanced_rl_dqn_to_sac_complete-main/videos3/rl-video-episode-2450.mp4.\n",
      "Moviepy - Writing video /home/akhters/Reinforcement Learning/advanced_rl_dqn_to_sac_complete-main/videos3/rl-video-episode-2450.mp4\n",
      "\n"
     ]
    },
    {
     "name": "stderr",
     "output_type": "stream",
     "text": []
    },
    {
     "name": "stdout",
     "output_type": "stream",
     "text": [
      "Moviepy - Done !\n",
      "Moviepy - video ready /home/akhters/Reinforcement Learning/advanced_rl_dqn_to_sac_complete-main/videos3/rl-video-episode-2450.mp4\n",
      "Moviepy - Building video /home/akhters/Reinforcement Learning/advanced_rl_dqn_to_sac_complete-main/videos3/rl-video-episode-2500.mp4.\n",
      "Moviepy - Writing video /home/akhters/Reinforcement Learning/advanced_rl_dqn_to_sac_complete-main/videos3/rl-video-episode-2500.mp4\n",
      "\n"
     ]
    },
    {
     "name": "stderr",
     "output_type": "stream",
     "text": []
    },
    {
     "name": "stdout",
     "output_type": "stream",
     "text": [
      "Moviepy - Done !\n",
      "Moviepy - video ready /home/akhters/Reinforcement Learning/advanced_rl_dqn_to_sac_complete-main/videos3/rl-video-episode-2500.mp4\n",
      "Moviepy - Building video /home/akhters/Reinforcement Learning/advanced_rl_dqn_to_sac_complete-main/videos3/rl-video-episode-2550.mp4.\n",
      "Moviepy - Writing video /home/akhters/Reinforcement Learning/advanced_rl_dqn_to_sac_complete-main/videos3/rl-video-episode-2550.mp4\n",
      "\n"
     ]
    },
    {
     "name": "stderr",
     "output_type": "stream",
     "text": []
    },
    {
     "name": "stdout",
     "output_type": "stream",
     "text": [
      "Moviepy - Done !\n",
      "Moviepy - video ready /home/akhters/Reinforcement Learning/advanced_rl_dqn_to_sac_complete-main/videos3/rl-video-episode-2550.mp4\n",
      "Moviepy - Building video /home/akhters/Reinforcement Learning/advanced_rl_dqn_to_sac_complete-main/videos3/rl-video-episode-2600.mp4.\n",
      "Moviepy - Writing video /home/akhters/Reinforcement Learning/advanced_rl_dqn_to_sac_complete-main/videos3/rl-video-episode-2600.mp4\n",
      "\n"
     ]
    },
    {
     "name": "stderr",
     "output_type": "stream",
     "text": []
    },
    {
     "name": "stdout",
     "output_type": "stream",
     "text": [
      "Moviepy - Done !\n",
      "Moviepy - video ready /home/akhters/Reinforcement Learning/advanced_rl_dqn_to_sac_complete-main/videos3/rl-video-episode-2600.mp4\n",
      "Moviepy - Building video /home/akhters/Reinforcement Learning/advanced_rl_dqn_to_sac_complete-main/videos3/rl-video-episode-2650.mp4.\n",
      "Moviepy - Writing video /home/akhters/Reinforcement Learning/advanced_rl_dqn_to_sac_complete-main/videos3/rl-video-episode-2650.mp4\n",
      "\n"
     ]
    },
    {
     "name": "stderr",
     "output_type": "stream",
     "text": []
    },
    {
     "name": "stdout",
     "output_type": "stream",
     "text": [
      "Moviepy - Done !\n",
      "Moviepy - video ready /home/akhters/Reinforcement Learning/advanced_rl_dqn_to_sac_complete-main/videos3/rl-video-episode-2650.mp4\n",
      "Moviepy - Building video /home/akhters/Reinforcement Learning/advanced_rl_dqn_to_sac_complete-main/videos3/rl-video-episode-2700.mp4.\n",
      "Moviepy - Writing video /home/akhters/Reinforcement Learning/advanced_rl_dqn_to_sac_complete-main/videos3/rl-video-episode-2700.mp4\n",
      "\n"
     ]
    },
    {
     "name": "stderr",
     "output_type": "stream",
     "text": []
    },
    {
     "name": "stdout",
     "output_type": "stream",
     "text": [
      "Moviepy - Done !\n",
      "Moviepy - video ready /home/akhters/Reinforcement Learning/advanced_rl_dqn_to_sac_complete-main/videos3/rl-video-episode-2700.mp4\n",
      "Moviepy - Building video /home/akhters/Reinforcement Learning/advanced_rl_dqn_to_sac_complete-main/videos3/rl-video-episode-2750.mp4.\n",
      "Moviepy - Writing video /home/akhters/Reinforcement Learning/advanced_rl_dqn_to_sac_complete-main/videos3/rl-video-episode-2750.mp4\n",
      "\n"
     ]
    },
    {
     "name": "stderr",
     "output_type": "stream",
     "text": []
    },
    {
     "name": "stdout",
     "output_type": "stream",
     "text": [
      "Moviepy - Done !\n",
      "Moviepy - video ready /home/akhters/Reinforcement Learning/advanced_rl_dqn_to_sac_complete-main/videos3/rl-video-episode-2750.mp4\n",
      "Moviepy - Building video /home/akhters/Reinforcement Learning/advanced_rl_dqn_to_sac_complete-main/videos3/rl-video-episode-2800.mp4.\n",
      "Moviepy - Writing video /home/akhters/Reinforcement Learning/advanced_rl_dqn_to_sac_complete-main/videos3/rl-video-episode-2800.mp4\n",
      "\n"
     ]
    },
    {
     "name": "stderr",
     "output_type": "stream",
     "text": []
    },
    {
     "name": "stdout",
     "output_type": "stream",
     "text": [
      "Moviepy - Done !\n",
      "Moviepy - video ready /home/akhters/Reinforcement Learning/advanced_rl_dqn_to_sac_complete-main/videos3/rl-video-episode-2800.mp4\n",
      "Moviepy - Building video /home/akhters/Reinforcement Learning/advanced_rl_dqn_to_sac_complete-main/videos3/rl-video-episode-2850.mp4.\n",
      "Moviepy - Writing video /home/akhters/Reinforcement Learning/advanced_rl_dqn_to_sac_complete-main/videos3/rl-video-episode-2850.mp4\n",
      "\n"
     ]
    },
    {
     "name": "stderr",
     "output_type": "stream",
     "text": []
    },
    {
     "name": "stdout",
     "output_type": "stream",
     "text": [
      "Moviepy - Done !\n",
      "Moviepy - video ready /home/akhters/Reinforcement Learning/advanced_rl_dqn_to_sac_complete-main/videos3/rl-video-episode-2850.mp4\n",
      "Moviepy - Building video /home/akhters/Reinforcement Learning/advanced_rl_dqn_to_sac_complete-main/videos3/rl-video-episode-2900.mp4.\n",
      "Moviepy - Writing video /home/akhters/Reinforcement Learning/advanced_rl_dqn_to_sac_complete-main/videos3/rl-video-episode-2900.mp4\n",
      "\n"
     ]
    },
    {
     "name": "stderr",
     "output_type": "stream",
     "text": []
    },
    {
     "name": "stdout",
     "output_type": "stream",
     "text": [
      "Moviepy - Done !\n",
      "Moviepy - video ready /home/akhters/Reinforcement Learning/advanced_rl_dqn_to_sac_complete-main/videos3/rl-video-episode-2900.mp4\n",
      "Moviepy - Building video /home/akhters/Reinforcement Learning/advanced_rl_dqn_to_sac_complete-main/videos3/rl-video-episode-2950.mp4.\n",
      "Moviepy - Writing video /home/akhters/Reinforcement Learning/advanced_rl_dqn_to_sac_complete-main/videos3/rl-video-episode-2950.mp4\n",
      "\n"
     ]
    },
    {
     "name": "stderr",
     "output_type": "stream",
     "text": []
    },
    {
     "name": "stdout",
     "output_type": "stream",
     "text": [
      "Moviepy - Done !\n",
      "Moviepy - video ready /home/akhters/Reinforcement Learning/advanced_rl_dqn_to_sac_complete-main/videos3/rl-video-episode-2950.mp4\n",
      "Moviepy - Building video /home/akhters/Reinforcement Learning/advanced_rl_dqn_to_sac_complete-main/videos3/rl-video-episode-3000.mp4.\n",
      "Moviepy - Writing video /home/akhters/Reinforcement Learning/advanced_rl_dqn_to_sac_complete-main/videos3/rl-video-episode-3000.mp4\n",
      "\n"
     ]
    },
    {
     "name": "stderr",
     "output_type": "stream",
     "text": []
    },
    {
     "name": "stdout",
     "output_type": "stream",
     "text": [
      "Moviepy - Done !\n",
      "Moviepy - video ready /home/akhters/Reinforcement Learning/advanced_rl_dqn_to_sac_complete-main/videos3/rl-video-episode-3000.mp4\n",
      "Moviepy - Building video /home/akhters/Reinforcement Learning/advanced_rl_dqn_to_sac_complete-main/videos3/rl-video-episode-3050.mp4.\n",
      "Moviepy - Writing video /home/akhters/Reinforcement Learning/advanced_rl_dqn_to_sac_complete-main/videos3/rl-video-episode-3050.mp4\n",
      "\n"
     ]
    },
    {
     "name": "stderr",
     "output_type": "stream",
     "text": []
    },
    {
     "name": "stdout",
     "output_type": "stream",
     "text": [
      "Moviepy - Done !\n",
      "Moviepy - video ready /home/akhters/Reinforcement Learning/advanced_rl_dqn_to_sac_complete-main/videos3/rl-video-episode-3050.mp4\n",
      "Moviepy - Building video /home/akhters/Reinforcement Learning/advanced_rl_dqn_to_sac_complete-main/videos3/rl-video-episode-3100.mp4.\n",
      "Moviepy - Writing video /home/akhters/Reinforcement Learning/advanced_rl_dqn_to_sac_complete-main/videos3/rl-video-episode-3100.mp4\n",
      "\n"
     ]
    },
    {
     "name": "stderr",
     "output_type": "stream",
     "text": []
    },
    {
     "name": "stdout",
     "output_type": "stream",
     "text": [
      "Moviepy - Done !\n",
      "Moviepy - video ready /home/akhters/Reinforcement Learning/advanced_rl_dqn_to_sac_complete-main/videos3/rl-video-episode-3100.mp4\n",
      "Moviepy - Building video /home/akhters/Reinforcement Learning/advanced_rl_dqn_to_sac_complete-main/videos3/rl-video-episode-3150.mp4.\n",
      "Moviepy - Writing video /home/akhters/Reinforcement Learning/advanced_rl_dqn_to_sac_complete-main/videos3/rl-video-episode-3150.mp4\n",
      "\n"
     ]
    },
    {
     "name": "stderr",
     "output_type": "stream",
     "text": []
    },
    {
     "name": "stdout",
     "output_type": "stream",
     "text": [
      "Moviepy - Done !\n",
      "Moviepy - video ready /home/akhters/Reinforcement Learning/advanced_rl_dqn_to_sac_complete-main/videos3/rl-video-episode-3150.mp4\n",
      "Moviepy - Building video /home/akhters/Reinforcement Learning/advanced_rl_dqn_to_sac_complete-main/videos3/rl-video-episode-3200.mp4.\n",
      "Moviepy - Writing video /home/akhters/Reinforcement Learning/advanced_rl_dqn_to_sac_complete-main/videos3/rl-video-episode-3200.mp4\n",
      "\n"
     ]
    },
    {
     "name": "stderr",
     "output_type": "stream",
     "text": []
    },
    {
     "name": "stdout",
     "output_type": "stream",
     "text": [
      "Moviepy - Done !\n",
      "Moviepy - video ready /home/akhters/Reinforcement Learning/advanced_rl_dqn_to_sac_complete-main/videos3/rl-video-episode-3200.mp4\n",
      "Moviepy - Building video /home/akhters/Reinforcement Learning/advanced_rl_dqn_to_sac_complete-main/videos3/rl-video-episode-3250.mp4.\n",
      "Moviepy - Writing video /home/akhters/Reinforcement Learning/advanced_rl_dqn_to_sac_complete-main/videos3/rl-video-episode-3250.mp4\n",
      "\n"
     ]
    },
    {
     "name": "stderr",
     "output_type": "stream",
     "text": []
    },
    {
     "name": "stdout",
     "output_type": "stream",
     "text": [
      "Moviepy - Done !\n",
      "Moviepy - video ready /home/akhters/Reinforcement Learning/advanced_rl_dqn_to_sac_complete-main/videos3/rl-video-episode-3250.mp4\n",
      "Moviepy - Building video /home/akhters/Reinforcement Learning/advanced_rl_dqn_to_sac_complete-main/videos3/rl-video-episode-3300.mp4.\n",
      "Moviepy - Writing video /home/akhters/Reinforcement Learning/advanced_rl_dqn_to_sac_complete-main/videos3/rl-video-episode-3300.mp4\n",
      "\n"
     ]
    },
    {
     "name": "stderr",
     "output_type": "stream",
     "text": []
    },
    {
     "name": "stdout",
     "output_type": "stream",
     "text": [
      "Moviepy - Done !\n",
      "Moviepy - video ready /home/akhters/Reinforcement Learning/advanced_rl_dqn_to_sac_complete-main/videos3/rl-video-episode-3300.mp4\n",
      "Moviepy - Building video /home/akhters/Reinforcement Learning/advanced_rl_dqn_to_sac_complete-main/videos3/rl-video-episode-3350.mp4.\n",
      "Moviepy - Writing video /home/akhters/Reinforcement Learning/advanced_rl_dqn_to_sac_complete-main/videos3/rl-video-episode-3350.mp4\n",
      "\n"
     ]
    },
    {
     "name": "stderr",
     "output_type": "stream",
     "text": []
    },
    {
     "name": "stdout",
     "output_type": "stream",
     "text": [
      "Moviepy - Done !\n",
      "Moviepy - video ready /home/akhters/Reinforcement Learning/advanced_rl_dqn_to_sac_complete-main/videos3/rl-video-episode-3350.mp4\n",
      "Moviepy - Building video /home/akhters/Reinforcement Learning/advanced_rl_dqn_to_sac_complete-main/videos3/rl-video-episode-3400.mp4.\n",
      "Moviepy - Writing video /home/akhters/Reinforcement Learning/advanced_rl_dqn_to_sac_complete-main/videos3/rl-video-episode-3400.mp4\n",
      "\n"
     ]
    },
    {
     "name": "stderr",
     "output_type": "stream",
     "text": []
    },
    {
     "name": "stdout",
     "output_type": "stream",
     "text": [
      "Moviepy - Done !\n",
      "Moviepy - video ready /home/akhters/Reinforcement Learning/advanced_rl_dqn_to_sac_complete-main/videos3/rl-video-episode-3400.mp4\n",
      "Moviepy - Building video /home/akhters/Reinforcement Learning/advanced_rl_dqn_to_sac_complete-main/videos3/rl-video-episode-3450.mp4.\n",
      "Moviepy - Writing video /home/akhters/Reinforcement Learning/advanced_rl_dqn_to_sac_complete-main/videos3/rl-video-episode-3450.mp4\n",
      "\n"
     ]
    },
    {
     "name": "stderr",
     "output_type": "stream",
     "text": []
    },
    {
     "name": "stdout",
     "output_type": "stream",
     "text": [
      "Moviepy - Done !\n",
      "Moviepy - video ready /home/akhters/Reinforcement Learning/advanced_rl_dqn_to_sac_complete-main/videos3/rl-video-episode-3450.mp4\n",
      "Moviepy - Building video /home/akhters/Reinforcement Learning/advanced_rl_dqn_to_sac_complete-main/videos3/rl-video-episode-3500.mp4.\n",
      "Moviepy - Writing video /home/akhters/Reinforcement Learning/advanced_rl_dqn_to_sac_complete-main/videos3/rl-video-episode-3500.mp4\n",
      "\n"
     ]
    },
    {
     "name": "stderr",
     "output_type": "stream",
     "text": []
    },
    {
     "name": "stdout",
     "output_type": "stream",
     "text": [
      "Moviepy - Done !\n",
      "Moviepy - video ready /home/akhters/Reinforcement Learning/advanced_rl_dqn_to_sac_complete-main/videos3/rl-video-episode-3500.mp4\n",
      "Moviepy - Building video /home/akhters/Reinforcement Learning/advanced_rl_dqn_to_sac_complete-main/videos3/rl-video-episode-3550.mp4.\n",
      "Moviepy - Writing video /home/akhters/Reinforcement Learning/advanced_rl_dqn_to_sac_complete-main/videos3/rl-video-episode-3550.mp4\n",
      "\n"
     ]
    },
    {
     "name": "stderr",
     "output_type": "stream",
     "text": []
    },
    {
     "name": "stdout",
     "output_type": "stream",
     "text": [
      "Moviepy - Done !\n",
      "Moviepy - video ready /home/akhters/Reinforcement Learning/advanced_rl_dqn_to_sac_complete-main/videos3/rl-video-episode-3550.mp4\n",
      "Moviepy - Building video /home/akhters/Reinforcement Learning/advanced_rl_dqn_to_sac_complete-main/videos3/rl-video-episode-3600.mp4.\n",
      "Moviepy - Writing video /home/akhters/Reinforcement Learning/advanced_rl_dqn_to_sac_complete-main/videos3/rl-video-episode-3600.mp4\n",
      "\n"
     ]
    },
    {
     "name": "stderr",
     "output_type": "stream",
     "text": []
    },
    {
     "name": "stdout",
     "output_type": "stream",
     "text": [
      "Moviepy - Done !\n",
      "Moviepy - video ready /home/akhters/Reinforcement Learning/advanced_rl_dqn_to_sac_complete-main/videos3/rl-video-episode-3600.mp4\n",
      "Moviepy - Building video /home/akhters/Reinforcement Learning/advanced_rl_dqn_to_sac_complete-main/videos3/rl-video-episode-3650.mp4.\n",
      "Moviepy - Writing video /home/akhters/Reinforcement Learning/advanced_rl_dqn_to_sac_complete-main/videos3/rl-video-episode-3650.mp4\n",
      "\n"
     ]
    },
    {
     "name": "stderr",
     "output_type": "stream",
     "text": []
    },
    {
     "name": "stdout",
     "output_type": "stream",
     "text": [
      "Moviepy - Done !\n",
      "Moviepy - video ready /home/akhters/Reinforcement Learning/advanced_rl_dqn_to_sac_complete-main/videos3/rl-video-episode-3650.mp4\n",
      "Moviepy - Building video /home/akhters/Reinforcement Learning/advanced_rl_dqn_to_sac_complete-main/videos3/rl-video-episode-3700.mp4.\n",
      "Moviepy - Writing video /home/akhters/Reinforcement Learning/advanced_rl_dqn_to_sac_complete-main/videos3/rl-video-episode-3700.mp4\n",
      "\n"
     ]
    },
    {
     "name": "stderr",
     "output_type": "stream",
     "text": []
    },
    {
     "name": "stdout",
     "output_type": "stream",
     "text": [
      "Moviepy - Done !\n",
      "Moviepy - video ready /home/akhters/Reinforcement Learning/advanced_rl_dqn_to_sac_complete-main/videos3/rl-video-episode-3700.mp4\n",
      "Moviepy - Building video /home/akhters/Reinforcement Learning/advanced_rl_dqn_to_sac_complete-main/videos3/rl-video-episode-3750.mp4.\n",
      "Moviepy - Writing video /home/akhters/Reinforcement Learning/advanced_rl_dqn_to_sac_complete-main/videos3/rl-video-episode-3750.mp4\n",
      "\n"
     ]
    },
    {
     "name": "stderr",
     "output_type": "stream",
     "text": []
    },
    {
     "name": "stdout",
     "output_type": "stream",
     "text": [
      "Moviepy - Done !\n",
      "Moviepy - video ready /home/akhters/Reinforcement Learning/advanced_rl_dqn_to_sac_complete-main/videos3/rl-video-episode-3750.mp4\n",
      "Moviepy - Building video /home/akhters/Reinforcement Learning/advanced_rl_dqn_to_sac_complete-main/videos3/rl-video-episode-3800.mp4.\n",
      "Moviepy - Writing video /home/akhters/Reinforcement Learning/advanced_rl_dqn_to_sac_complete-main/videos3/rl-video-episode-3800.mp4\n",
      "\n"
     ]
    },
    {
     "name": "stderr",
     "output_type": "stream",
     "text": []
    },
    {
     "name": "stdout",
     "output_type": "stream",
     "text": [
      "Moviepy - Done !\n",
      "Moviepy - video ready /home/akhters/Reinforcement Learning/advanced_rl_dqn_to_sac_complete-main/videos3/rl-video-episode-3800.mp4\n",
      "Moviepy - Building video /home/akhters/Reinforcement Learning/advanced_rl_dqn_to_sac_complete-main/videos3/rl-video-episode-3850.mp4.\n",
      "Moviepy - Writing video /home/akhters/Reinforcement Learning/advanced_rl_dqn_to_sac_complete-main/videos3/rl-video-episode-3850.mp4\n",
      "\n"
     ]
    },
    {
     "name": "stderr",
     "output_type": "stream",
     "text": []
    },
    {
     "name": "stdout",
     "output_type": "stream",
     "text": [
      "Moviepy - Done !\n",
      "Moviepy - video ready /home/akhters/Reinforcement Learning/advanced_rl_dqn_to_sac_complete-main/videos3/rl-video-episode-3850.mp4\n",
      "Moviepy - Building video /home/akhters/Reinforcement Learning/advanced_rl_dqn_to_sac_complete-main/videos3/rl-video-episode-3900.mp4.\n",
      "Moviepy - Writing video /home/akhters/Reinforcement Learning/advanced_rl_dqn_to_sac_complete-main/videos3/rl-video-episode-3900.mp4\n",
      "\n"
     ]
    },
    {
     "name": "stderr",
     "output_type": "stream",
     "text": []
    },
    {
     "name": "stdout",
     "output_type": "stream",
     "text": [
      "Moviepy - Done !\n",
      "Moviepy - video ready /home/akhters/Reinforcement Learning/advanced_rl_dqn_to_sac_complete-main/videos3/rl-video-episode-3900.mp4\n",
      "Moviepy - Building video /home/akhters/Reinforcement Learning/advanced_rl_dqn_to_sac_complete-main/videos3/rl-video-episode-3950.mp4.\n",
      "Moviepy - Writing video /home/akhters/Reinforcement Learning/advanced_rl_dqn_to_sac_complete-main/videos3/rl-video-episode-3950.mp4\n",
      "\n"
     ]
    },
    {
     "name": "stderr",
     "output_type": "stream",
     "text": []
    },
    {
     "name": "stdout",
     "output_type": "stream",
     "text": [
      "Moviepy - Done !\n",
      "Moviepy - video ready /home/akhters/Reinforcement Learning/advanced_rl_dqn_to_sac_complete-main/videos3/rl-video-episode-3950.mp4\n",
      "Moviepy - Building video /home/akhters/Reinforcement Learning/advanced_rl_dqn_to_sac_complete-main/videos3/rl-video-episode-4000.mp4.\n",
      "Moviepy - Writing video /home/akhters/Reinforcement Learning/advanced_rl_dqn_to_sac_complete-main/videos3/rl-video-episode-4000.mp4\n",
      "\n"
     ]
    },
    {
     "name": "stderr",
     "output_type": "stream",
     "text": []
    },
    {
     "name": "stdout",
     "output_type": "stream",
     "text": [
      "Moviepy - Done !\n",
      "Moviepy - video ready /home/akhters/Reinforcement Learning/advanced_rl_dqn_to_sac_complete-main/videos3/rl-video-episode-4000.mp4\n",
      "Moviepy - Building video /home/akhters/Reinforcement Learning/advanced_rl_dqn_to_sac_complete-main/videos3/rl-video-episode-4050.mp4.\n",
      "Moviepy - Writing video /home/akhters/Reinforcement Learning/advanced_rl_dqn_to_sac_complete-main/videos3/rl-video-episode-4050.mp4\n",
      "\n"
     ]
    },
    {
     "name": "stderr",
     "output_type": "stream",
     "text": []
    },
    {
     "name": "stdout",
     "output_type": "stream",
     "text": [
      "Moviepy - Done !\n",
      "Moviepy - video ready /home/akhters/Reinforcement Learning/advanced_rl_dqn_to_sac_complete-main/videos3/rl-video-episode-4050.mp4\n",
      "Moviepy - Building video /home/akhters/Reinforcement Learning/advanced_rl_dqn_to_sac_complete-main/videos3/rl-video-episode-4100.mp4.\n",
      "Moviepy - Writing video /home/akhters/Reinforcement Learning/advanced_rl_dqn_to_sac_complete-main/videos3/rl-video-episode-4100.mp4\n",
      "\n"
     ]
    },
    {
     "name": "stderr",
     "output_type": "stream",
     "text": []
    },
    {
     "name": "stdout",
     "output_type": "stream",
     "text": [
      "Moviepy - Done !\n",
      "Moviepy - video ready /home/akhters/Reinforcement Learning/advanced_rl_dqn_to_sac_complete-main/videos3/rl-video-episode-4100.mp4\n",
      "Moviepy - Building video /home/akhters/Reinforcement Learning/advanced_rl_dqn_to_sac_complete-main/videos3/rl-video-episode-4150.mp4.\n",
      "Moviepy - Writing video /home/akhters/Reinforcement Learning/advanced_rl_dqn_to_sac_complete-main/videos3/rl-video-episode-4150.mp4\n",
      "\n"
     ]
    },
    {
     "name": "stderr",
     "output_type": "stream",
     "text": []
    },
    {
     "name": "stdout",
     "output_type": "stream",
     "text": [
      "Moviepy - Done !\n",
      "Moviepy - video ready /home/akhters/Reinforcement Learning/advanced_rl_dqn_to_sac_complete-main/videos3/rl-video-episode-4150.mp4\n",
      "Moviepy - Building video /home/akhters/Reinforcement Learning/advanced_rl_dqn_to_sac_complete-main/videos3/rl-video-episode-4200.mp4.\n",
      "Moviepy - Writing video /home/akhters/Reinforcement Learning/advanced_rl_dqn_to_sac_complete-main/videos3/rl-video-episode-4200.mp4\n",
      "\n"
     ]
    },
    {
     "name": "stderr",
     "output_type": "stream",
     "text": []
    },
    {
     "name": "stdout",
     "output_type": "stream",
     "text": [
      "Moviepy - Done !\n",
      "Moviepy - video ready /home/akhters/Reinforcement Learning/advanced_rl_dqn_to_sac_complete-main/videos3/rl-video-episode-4200.mp4\n",
      "Moviepy - Building video /home/akhters/Reinforcement Learning/advanced_rl_dqn_to_sac_complete-main/videos3/rl-video-episode-4250.mp4.\n",
      "Moviepy - Writing video /home/akhters/Reinforcement Learning/advanced_rl_dqn_to_sac_complete-main/videos3/rl-video-episode-4250.mp4\n",
      "\n"
     ]
    },
    {
     "name": "stderr",
     "output_type": "stream",
     "text": []
    },
    {
     "name": "stdout",
     "output_type": "stream",
     "text": [
      "Moviepy - Done !\n",
      "Moviepy - video ready /home/akhters/Reinforcement Learning/advanced_rl_dqn_to_sac_complete-main/videos3/rl-video-episode-4250.mp4\n",
      "Moviepy - Building video /home/akhters/Reinforcement Learning/advanced_rl_dqn_to_sac_complete-main/videos3/rl-video-episode-4300.mp4.\n",
      "Moviepy - Writing video /home/akhters/Reinforcement Learning/advanced_rl_dqn_to_sac_complete-main/videos3/rl-video-episode-4300.mp4\n",
      "\n"
     ]
    },
    {
     "name": "stderr",
     "output_type": "stream",
     "text": []
    },
    {
     "name": "stdout",
     "output_type": "stream",
     "text": [
      "Moviepy - Done !\n",
      "Moviepy - video ready /home/akhters/Reinforcement Learning/advanced_rl_dqn_to_sac_complete-main/videos3/rl-video-episode-4300.mp4\n",
      "Moviepy - Building video /home/akhters/Reinforcement Learning/advanced_rl_dqn_to_sac_complete-main/videos3/rl-video-episode-4350.mp4.\n",
      "Moviepy - Writing video /home/akhters/Reinforcement Learning/advanced_rl_dqn_to_sac_complete-main/videos3/rl-video-episode-4350.mp4\n",
      "\n"
     ]
    },
    {
     "name": "stderr",
     "output_type": "stream",
     "text": []
    },
    {
     "name": "stdout",
     "output_type": "stream",
     "text": [
      "Moviepy - Done !\n",
      "Moviepy - video ready /home/akhters/Reinforcement Learning/advanced_rl_dqn_to_sac_complete-main/videos3/rl-video-episode-4350.mp4\n",
      "Moviepy - Building video /home/akhters/Reinforcement Learning/advanced_rl_dqn_to_sac_complete-main/videos3/rl-video-episode-4400.mp4.\n",
      "Moviepy - Writing video /home/akhters/Reinforcement Learning/advanced_rl_dqn_to_sac_complete-main/videos3/rl-video-episode-4400.mp4\n",
      "\n"
     ]
    },
    {
     "name": "stderr",
     "output_type": "stream",
     "text": []
    },
    {
     "name": "stdout",
     "output_type": "stream",
     "text": [
      "Moviepy - Done !\n",
      "Moviepy - video ready /home/akhters/Reinforcement Learning/advanced_rl_dqn_to_sac_complete-main/videos3/rl-video-episode-4400.mp4\n",
      "Moviepy - Building video /home/akhters/Reinforcement Learning/advanced_rl_dqn_to_sac_complete-main/videos3/rl-video-episode-4450.mp4.\n",
      "Moviepy - Writing video /home/akhters/Reinforcement Learning/advanced_rl_dqn_to_sac_complete-main/videos3/rl-video-episode-4450.mp4\n",
      "\n"
     ]
    },
    {
     "name": "stderr",
     "output_type": "stream",
     "text": []
    },
    {
     "name": "stdout",
     "output_type": "stream",
     "text": [
      "Moviepy - Done !\n",
      "Moviepy - video ready /home/akhters/Reinforcement Learning/advanced_rl_dqn_to_sac_complete-main/videos3/rl-video-episode-4450.mp4\n",
      "Moviepy - Building video /home/akhters/Reinforcement Learning/advanced_rl_dqn_to_sac_complete-main/videos3/rl-video-episode-4500.mp4.\n",
      "Moviepy - Writing video /home/akhters/Reinforcement Learning/advanced_rl_dqn_to_sac_complete-main/videos3/rl-video-episode-4500.mp4\n",
      "\n"
     ]
    },
    {
     "name": "stderr",
     "output_type": "stream",
     "text": []
    },
    {
     "name": "stdout",
     "output_type": "stream",
     "text": [
      "Moviepy - Done !\n",
      "Moviepy - video ready /home/akhters/Reinforcement Learning/advanced_rl_dqn_to_sac_complete-main/videos3/rl-video-episode-4500.mp4\n",
      "Moviepy - Building video /home/akhters/Reinforcement Learning/advanced_rl_dqn_to_sac_complete-main/videos3/rl-video-episode-4550.mp4.\n",
      "Moviepy - Writing video /home/akhters/Reinforcement Learning/advanced_rl_dqn_to_sac_complete-main/videos3/rl-video-episode-4550.mp4\n",
      "\n"
     ]
    },
    {
     "name": "stderr",
     "output_type": "stream",
     "text": []
    },
    {
     "name": "stdout",
     "output_type": "stream",
     "text": [
      "Moviepy - Done !\n",
      "Moviepy - video ready /home/akhters/Reinforcement Learning/advanced_rl_dqn_to_sac_complete-main/videos3/rl-video-episode-4550.mp4\n",
      "Moviepy - Building video /home/akhters/Reinforcement Learning/advanced_rl_dqn_to_sac_complete-main/videos3/rl-video-episode-4600.mp4.\n",
      "Moviepy - Writing video /home/akhters/Reinforcement Learning/advanced_rl_dqn_to_sac_complete-main/videos3/rl-video-episode-4600.mp4\n",
      "\n"
     ]
    },
    {
     "name": "stderr",
     "output_type": "stream",
     "text": []
    },
    {
     "name": "stdout",
     "output_type": "stream",
     "text": [
      "Moviepy - Done !\n",
      "Moviepy - video ready /home/akhters/Reinforcement Learning/advanced_rl_dqn_to_sac_complete-main/videos3/rl-video-episode-4600.mp4\n",
      "Moviepy - Building video /home/akhters/Reinforcement Learning/advanced_rl_dqn_to_sac_complete-main/videos3/rl-video-episode-4650.mp4.\n",
      "Moviepy - Writing video /home/akhters/Reinforcement Learning/advanced_rl_dqn_to_sac_complete-main/videos3/rl-video-episode-4650.mp4\n",
      "\n"
     ]
    },
    {
     "name": "stderr",
     "output_type": "stream",
     "text": []
    },
    {
     "name": "stdout",
     "output_type": "stream",
     "text": [
      "Moviepy - Done !\n",
      "Moviepy - video ready /home/akhters/Reinforcement Learning/advanced_rl_dqn_to_sac_complete-main/videos3/rl-video-episode-4650.mp4\n",
      "Moviepy - Building video /home/akhters/Reinforcement Learning/advanced_rl_dqn_to_sac_complete-main/videos3/rl-video-episode-4700.mp4.\n",
      "Moviepy - Writing video /home/akhters/Reinforcement Learning/advanced_rl_dqn_to_sac_complete-main/videos3/rl-video-episode-4700.mp4\n",
      "\n"
     ]
    },
    {
     "name": "stderr",
     "output_type": "stream",
     "text": []
    },
    {
     "name": "stdout",
     "output_type": "stream",
     "text": [
      "Moviepy - Done !\n",
      "Moviepy - video ready /home/akhters/Reinforcement Learning/advanced_rl_dqn_to_sac_complete-main/videos3/rl-video-episode-4700.mp4\n",
      "Moviepy - Building video /home/akhters/Reinforcement Learning/advanced_rl_dqn_to_sac_complete-main/videos3/rl-video-episode-4750.mp4.\n",
      "Moviepy - Writing video /home/akhters/Reinforcement Learning/advanced_rl_dqn_to_sac_complete-main/videos3/rl-video-episode-4750.mp4\n",
      "\n"
     ]
    },
    {
     "name": "stderr",
     "output_type": "stream",
     "text": []
    },
    {
     "name": "stdout",
     "output_type": "stream",
     "text": [
      "Moviepy - Done !\n",
      "Moviepy - video ready /home/akhters/Reinforcement Learning/advanced_rl_dqn_to_sac_complete-main/videos3/rl-video-episode-4750.mp4\n",
      "Moviepy - Building video /home/akhters/Reinforcement Learning/advanced_rl_dqn_to_sac_complete-main/videos3/rl-video-episode-4800.mp4.\n",
      "Moviepy - Writing video /home/akhters/Reinforcement Learning/advanced_rl_dqn_to_sac_complete-main/videos3/rl-video-episode-4800.mp4\n",
      "\n"
     ]
    },
    {
     "name": "stderr",
     "output_type": "stream",
     "text": []
    },
    {
     "name": "stdout",
     "output_type": "stream",
     "text": [
      "Moviepy - Done !\n",
      "Moviepy - video ready /home/akhters/Reinforcement Learning/advanced_rl_dqn_to_sac_complete-main/videos3/rl-video-episode-4800.mp4\n",
      "Moviepy - Building video /home/akhters/Reinforcement Learning/advanced_rl_dqn_to_sac_complete-main/videos3/rl-video-episode-4850.mp4.\n",
      "Moviepy - Writing video /home/akhters/Reinforcement Learning/advanced_rl_dqn_to_sac_complete-main/videos3/rl-video-episode-4850.mp4\n",
      "\n"
     ]
    },
    {
     "name": "stderr",
     "output_type": "stream",
     "text": []
    },
    {
     "name": "stdout",
     "output_type": "stream",
     "text": [
      "Moviepy - Done !\n",
      "Moviepy - video ready /home/akhters/Reinforcement Learning/advanced_rl_dqn_to_sac_complete-main/videos3/rl-video-episode-4850.mp4\n",
      "Moviepy - Building video /home/akhters/Reinforcement Learning/advanced_rl_dqn_to_sac_complete-main/videos3/rl-video-episode-4900.mp4.\n",
      "Moviepy - Writing video /home/akhters/Reinforcement Learning/advanced_rl_dqn_to_sac_complete-main/videos3/rl-video-episode-4900.mp4\n",
      "\n"
     ]
    },
    {
     "name": "stderr",
     "output_type": "stream",
     "text": []
    },
    {
     "name": "stdout",
     "output_type": "stream",
     "text": [
      "Moviepy - Done !\n",
      "Moviepy - video ready /home/akhters/Reinforcement Learning/advanced_rl_dqn_to_sac_complete-main/videos3/rl-video-episode-4900.mp4\n",
      "Moviepy - Building video /home/akhters/Reinforcement Learning/advanced_rl_dqn_to_sac_complete-main/videos3/rl-video-episode-4950.mp4.\n",
      "Moviepy - Writing video /home/akhters/Reinforcement Learning/advanced_rl_dqn_to_sac_complete-main/videos3/rl-video-episode-4950.mp4\n",
      "\n"
     ]
    },
    {
     "name": "stderr",
     "output_type": "stream",
     "text": []
    },
    {
     "name": "stdout",
     "output_type": "stream",
     "text": [
      "Moviepy - Done !\n",
      "Moviepy - video ready /home/akhters/Reinforcement Learning/advanced_rl_dqn_to_sac_complete-main/videos3/rl-video-episode-4950.mp4\n",
      "Moviepy - Building video /home/akhters/Reinforcement Learning/advanced_rl_dqn_to_sac_complete-main/videos3/rl-video-episode-5000.mp4.\n",
      "Moviepy - Writing video /home/akhters/Reinforcement Learning/advanced_rl_dqn_to_sac_complete-main/videos3/rl-video-episode-5000.mp4\n",
      "\n"
     ]
    },
    {
     "name": "stderr",
     "output_type": "stream",
     "text": []
    },
    {
     "name": "stdout",
     "output_type": "stream",
     "text": [
      "Moviepy - Done !\n",
      "Moviepy - video ready /home/akhters/Reinforcement Learning/advanced_rl_dqn_to_sac_complete-main/videos3/rl-video-episode-5000.mp4\n",
      "Moviepy - Building video /home/akhters/Reinforcement Learning/advanced_rl_dqn_to_sac_complete-main/videos3/rl-video-episode-5050.mp4.\n",
      "Moviepy - Writing video /home/akhters/Reinforcement Learning/advanced_rl_dqn_to_sac_complete-main/videos3/rl-video-episode-5050.mp4\n",
      "\n"
     ]
    },
    {
     "name": "stderr",
     "output_type": "stream",
     "text": []
    },
    {
     "name": "stdout",
     "output_type": "stream",
     "text": [
      "Moviepy - Done !\n",
      "Moviepy - video ready /home/akhters/Reinforcement Learning/advanced_rl_dqn_to_sac_complete-main/videos3/rl-video-episode-5050.mp4\n",
      "Moviepy - Building video /home/akhters/Reinforcement Learning/advanced_rl_dqn_to_sac_complete-main/videos3/rl-video-episode-5100.mp4.\n",
      "Moviepy - Writing video /home/akhters/Reinforcement Learning/advanced_rl_dqn_to_sac_complete-main/videos3/rl-video-episode-5100.mp4\n",
      "\n"
     ]
    },
    {
     "name": "stderr",
     "output_type": "stream",
     "text": []
    },
    {
     "name": "stdout",
     "output_type": "stream",
     "text": [
      "Moviepy - Done !\n",
      "Moviepy - video ready /home/akhters/Reinforcement Learning/advanced_rl_dqn_to_sac_complete-main/videos3/rl-video-episode-5100.mp4\n",
      "Moviepy - Building video /home/akhters/Reinforcement Learning/advanced_rl_dqn_to_sac_complete-main/videos3/rl-video-episode-5150.mp4.\n",
      "Moviepy - Writing video /home/akhters/Reinforcement Learning/advanced_rl_dqn_to_sac_complete-main/videos3/rl-video-episode-5150.mp4\n",
      "\n"
     ]
    },
    {
     "name": "stderr",
     "output_type": "stream",
     "text": []
    },
    {
     "name": "stdout",
     "output_type": "stream",
     "text": [
      "Moviepy - Done !\n",
      "Moviepy - video ready /home/akhters/Reinforcement Learning/advanced_rl_dqn_to_sac_complete-main/videos3/rl-video-episode-5150.mp4\n",
      "Moviepy - Building video /home/akhters/Reinforcement Learning/advanced_rl_dqn_to_sac_complete-main/videos3/rl-video-episode-5200.mp4.\n",
      "Moviepy - Writing video /home/akhters/Reinforcement Learning/advanced_rl_dqn_to_sac_complete-main/videos3/rl-video-episode-5200.mp4\n",
      "\n"
     ]
    },
    {
     "name": "stderr",
     "output_type": "stream",
     "text": []
    },
    {
     "name": "stdout",
     "output_type": "stream",
     "text": [
      "Moviepy - Done !\n",
      "Moviepy - video ready /home/akhters/Reinforcement Learning/advanced_rl_dqn_to_sac_complete-main/videos3/rl-video-episode-5200.mp4\n",
      "Moviepy - Building video /home/akhters/Reinforcement Learning/advanced_rl_dqn_to_sac_complete-main/videos3/rl-video-episode-5250.mp4.\n",
      "Moviepy - Writing video /home/akhters/Reinforcement Learning/advanced_rl_dqn_to_sac_complete-main/videos3/rl-video-episode-5250.mp4\n",
      "\n"
     ]
    },
    {
     "name": "stderr",
     "output_type": "stream",
     "text": []
    },
    {
     "name": "stdout",
     "output_type": "stream",
     "text": [
      "Moviepy - Done !\n",
      "Moviepy - video ready /home/akhters/Reinforcement Learning/advanced_rl_dqn_to_sac_complete-main/videos3/rl-video-episode-5250.mp4\n",
      "Moviepy - Building video /home/akhters/Reinforcement Learning/advanced_rl_dqn_to_sac_complete-main/videos3/rl-video-episode-5300.mp4.\n",
      "Moviepy - Writing video /home/akhters/Reinforcement Learning/advanced_rl_dqn_to_sac_complete-main/videos3/rl-video-episode-5300.mp4\n",
      "\n"
     ]
    },
    {
     "name": "stderr",
     "output_type": "stream",
     "text": []
    },
    {
     "name": "stdout",
     "output_type": "stream",
     "text": [
      "Moviepy - Done !\n",
      "Moviepy - video ready /home/akhters/Reinforcement Learning/advanced_rl_dqn_to_sac_complete-main/videos3/rl-video-episode-5300.mp4\n",
      "Moviepy - Building video /home/akhters/Reinforcement Learning/advanced_rl_dqn_to_sac_complete-main/videos3/rl-video-episode-5350.mp4.\n",
      "Moviepy - Writing video /home/akhters/Reinforcement Learning/advanced_rl_dqn_to_sac_complete-main/videos3/rl-video-episode-5350.mp4\n",
      "\n"
     ]
    },
    {
     "name": "stderr",
     "output_type": "stream",
     "text": []
    },
    {
     "name": "stdout",
     "output_type": "stream",
     "text": [
      "Moviepy - Done !\n",
      "Moviepy - video ready /home/akhters/Reinforcement Learning/advanced_rl_dqn_to_sac_complete-main/videos3/rl-video-episode-5350.mp4\n",
      "Moviepy - Building video /home/akhters/Reinforcement Learning/advanced_rl_dqn_to_sac_complete-main/videos3/rl-video-episode-5400.mp4.\n",
      "Moviepy - Writing video /home/akhters/Reinforcement Learning/advanced_rl_dqn_to_sac_complete-main/videos3/rl-video-episode-5400.mp4\n",
      "\n"
     ]
    },
    {
     "name": "stderr",
     "output_type": "stream",
     "text": []
    },
    {
     "name": "stdout",
     "output_type": "stream",
     "text": [
      "Moviepy - Done !\n",
      "Moviepy - video ready /home/akhters/Reinforcement Learning/advanced_rl_dqn_to_sac_complete-main/videos3/rl-video-episode-5400.mp4\n",
      "Moviepy - Building video /home/akhters/Reinforcement Learning/advanced_rl_dqn_to_sac_complete-main/videos3/rl-video-episode-5450.mp4.\n",
      "Moviepy - Writing video /home/akhters/Reinforcement Learning/advanced_rl_dqn_to_sac_complete-main/videos3/rl-video-episode-5450.mp4\n",
      "\n"
     ]
    },
    {
     "name": "stderr",
     "output_type": "stream",
     "text": []
    },
    {
     "name": "stdout",
     "output_type": "stream",
     "text": [
      "Moviepy - Done !\n",
      "Moviepy - video ready /home/akhters/Reinforcement Learning/advanced_rl_dqn_to_sac_complete-main/videos3/rl-video-episode-5450.mp4\n",
      "Moviepy - Building video /home/akhters/Reinforcement Learning/advanced_rl_dqn_to_sac_complete-main/videos3/rl-video-episode-5500.mp4.\n",
      "Moviepy - Writing video /home/akhters/Reinforcement Learning/advanced_rl_dqn_to_sac_complete-main/videos3/rl-video-episode-5500.mp4\n",
      "\n"
     ]
    },
    {
     "name": "stderr",
     "output_type": "stream",
     "text": []
    },
    {
     "name": "stdout",
     "output_type": "stream",
     "text": [
      "Moviepy - Done !\n",
      "Moviepy - video ready /home/akhters/Reinforcement Learning/advanced_rl_dqn_to_sac_complete-main/videos3/rl-video-episode-5500.mp4\n",
      "Moviepy - Building video /home/akhters/Reinforcement Learning/advanced_rl_dqn_to_sac_complete-main/videos3/rl-video-episode-5550.mp4.\n",
      "Moviepy - Writing video /home/akhters/Reinforcement Learning/advanced_rl_dqn_to_sac_complete-main/videos3/rl-video-episode-5550.mp4\n",
      "\n"
     ]
    },
    {
     "name": "stderr",
     "output_type": "stream",
     "text": []
    },
    {
     "name": "stdout",
     "output_type": "stream",
     "text": [
      "Moviepy - Done !\n",
      "Moviepy - video ready /home/akhters/Reinforcement Learning/advanced_rl_dqn_to_sac_complete-main/videos3/rl-video-episode-5550.mp4\n",
      "Moviepy - Building video /home/akhters/Reinforcement Learning/advanced_rl_dqn_to_sac_complete-main/videos3/rl-video-episode-5600.mp4.\n",
      "Moviepy - Writing video /home/akhters/Reinforcement Learning/advanced_rl_dqn_to_sac_complete-main/videos3/rl-video-episode-5600.mp4\n",
      "\n"
     ]
    },
    {
     "name": "stderr",
     "output_type": "stream",
     "text": []
    },
    {
     "name": "stdout",
     "output_type": "stream",
     "text": [
      "Moviepy - Done !\n",
      "Moviepy - video ready /home/akhters/Reinforcement Learning/advanced_rl_dqn_to_sac_complete-main/videos3/rl-video-episode-5600.mp4\n",
      "Moviepy - Building video /home/akhters/Reinforcement Learning/advanced_rl_dqn_to_sac_complete-main/videos3/rl-video-episode-5650.mp4.\n",
      "Moviepy - Writing video /home/akhters/Reinforcement Learning/advanced_rl_dqn_to_sac_complete-main/videos3/rl-video-episode-5650.mp4\n",
      "\n"
     ]
    },
    {
     "name": "stderr",
     "output_type": "stream",
     "text": []
    },
    {
     "name": "stdout",
     "output_type": "stream",
     "text": [
      "Moviepy - Done !\n",
      "Moviepy - video ready /home/akhters/Reinforcement Learning/advanced_rl_dqn_to_sac_complete-main/videos3/rl-video-episode-5650.mp4\n",
      "Moviepy - Building video /home/akhters/Reinforcement Learning/advanced_rl_dqn_to_sac_complete-main/videos3/rl-video-episode-5700.mp4.\n",
      "Moviepy - Writing video /home/akhters/Reinforcement Learning/advanced_rl_dqn_to_sac_complete-main/videos3/rl-video-episode-5700.mp4\n",
      "\n"
     ]
    },
    {
     "name": "stderr",
     "output_type": "stream",
     "text": []
    },
    {
     "name": "stdout",
     "output_type": "stream",
     "text": [
      "Moviepy - Done !\n",
      "Moviepy - video ready /home/akhters/Reinforcement Learning/advanced_rl_dqn_to_sac_complete-main/videos3/rl-video-episode-5700.mp4\n",
      "Moviepy - Building video /home/akhters/Reinforcement Learning/advanced_rl_dqn_to_sac_complete-main/videos3/rl-video-episode-5750.mp4.\n",
      "Moviepy - Writing video /home/akhters/Reinforcement Learning/advanced_rl_dqn_to_sac_complete-main/videos3/rl-video-episode-5750.mp4\n",
      "\n"
     ]
    },
    {
     "name": "stderr",
     "output_type": "stream",
     "text": []
    },
    {
     "name": "stdout",
     "output_type": "stream",
     "text": [
      "Moviepy - Done !\n",
      "Moviepy - video ready /home/akhters/Reinforcement Learning/advanced_rl_dqn_to_sac_complete-main/videos3/rl-video-episode-5750.mp4\n",
      "Moviepy - Building video /home/akhters/Reinforcement Learning/advanced_rl_dqn_to_sac_complete-main/videos3/rl-video-episode-5800.mp4.\n",
      "Moviepy - Writing video /home/akhters/Reinforcement Learning/advanced_rl_dqn_to_sac_complete-main/videos3/rl-video-episode-5800.mp4\n",
      "\n"
     ]
    },
    {
     "name": "stderr",
     "output_type": "stream",
     "text": []
    },
    {
     "name": "stdout",
     "output_type": "stream",
     "text": [
      "Moviepy - Done !\n",
      "Moviepy - video ready /home/akhters/Reinforcement Learning/advanced_rl_dqn_to_sac_complete-main/videos3/rl-video-episode-5800.mp4\n",
      "Moviepy - Building video /home/akhters/Reinforcement Learning/advanced_rl_dqn_to_sac_complete-main/videos3/rl-video-episode-5850.mp4.\n",
      "Moviepy - Writing video /home/akhters/Reinforcement Learning/advanced_rl_dqn_to_sac_complete-main/videos3/rl-video-episode-5850.mp4\n",
      "\n"
     ]
    },
    {
     "name": "stderr",
     "output_type": "stream",
     "text": []
    },
    {
     "name": "stdout",
     "output_type": "stream",
     "text": [
      "Moviepy - Done !\n",
      "Moviepy - video ready /home/akhters/Reinforcement Learning/advanced_rl_dqn_to_sac_complete-main/videos3/rl-video-episode-5850.mp4\n",
      "Moviepy - Building video /home/akhters/Reinforcement Learning/advanced_rl_dqn_to_sac_complete-main/videos3/rl-video-episode-5900.mp4.\n",
      "Moviepy - Writing video /home/akhters/Reinforcement Learning/advanced_rl_dqn_to_sac_complete-main/videos3/rl-video-episode-5900.mp4\n",
      "\n"
     ]
    },
    {
     "name": "stderr",
     "output_type": "stream",
     "text": []
    },
    {
     "name": "stdout",
     "output_type": "stream",
     "text": [
      "Moviepy - Done !\n",
      "Moviepy - video ready /home/akhters/Reinforcement Learning/advanced_rl_dqn_to_sac_complete-main/videos3/rl-video-episode-5900.mp4\n",
      "Moviepy - Building video /home/akhters/Reinforcement Learning/advanced_rl_dqn_to_sac_complete-main/videos3/rl-video-episode-5950.mp4.\n",
      "Moviepy - Writing video /home/akhters/Reinforcement Learning/advanced_rl_dqn_to_sac_complete-main/videos3/rl-video-episode-5950.mp4\n",
      "\n"
     ]
    },
    {
     "name": "stderr",
     "output_type": "stream",
     "text": []
    },
    {
     "name": "stdout",
     "output_type": "stream",
     "text": [
      "Moviepy - Done !\n",
      "Moviepy - video ready /home/akhters/Reinforcement Learning/advanced_rl_dqn_to_sac_complete-main/videos3/rl-video-episode-5950.mp4\n",
      "Moviepy - Building video /home/akhters/Reinforcement Learning/advanced_rl_dqn_to_sac_complete-main/videos3/rl-video-episode-6000.mp4.\n",
      "Moviepy - Writing video /home/akhters/Reinforcement Learning/advanced_rl_dqn_to_sac_complete-main/videos3/rl-video-episode-6000.mp4\n",
      "\n"
     ]
    },
    {
     "name": "stderr",
     "output_type": "stream",
     "text": []
    },
    {
     "name": "stdout",
     "output_type": "stream",
     "text": [
      "Moviepy - Done !\n",
      "Moviepy - video ready /home/akhters/Reinforcement Learning/advanced_rl_dqn_to_sac_complete-main/videos3/rl-video-episode-6000.mp4\n",
      "Moviepy - Building video /home/akhters/Reinforcement Learning/advanced_rl_dqn_to_sac_complete-main/videos3/rl-video-episode-6050.mp4.\n",
      "Moviepy - Writing video /home/akhters/Reinforcement Learning/advanced_rl_dqn_to_sac_complete-main/videos3/rl-video-episode-6050.mp4\n",
      "\n"
     ]
    },
    {
     "name": "stderr",
     "output_type": "stream",
     "text": []
    },
    {
     "name": "stdout",
     "output_type": "stream",
     "text": [
      "Moviepy - Done !\n",
      "Moviepy - video ready /home/akhters/Reinforcement Learning/advanced_rl_dqn_to_sac_complete-main/videos3/rl-video-episode-6050.mp4\n",
      "Moviepy - Building video /home/akhters/Reinforcement Learning/advanced_rl_dqn_to_sac_complete-main/videos3/rl-video-episode-6100.mp4.\n",
      "Moviepy - Writing video /home/akhters/Reinforcement Learning/advanced_rl_dqn_to_sac_complete-main/videos3/rl-video-episode-6100.mp4\n",
      "\n"
     ]
    },
    {
     "name": "stderr",
     "output_type": "stream",
     "text": []
    },
    {
     "name": "stdout",
     "output_type": "stream",
     "text": [
      "Moviepy - Done !\n",
      "Moviepy - video ready /home/akhters/Reinforcement Learning/advanced_rl_dqn_to_sac_complete-main/videos3/rl-video-episode-6100.mp4\n",
      "Moviepy - Building video /home/akhters/Reinforcement Learning/advanced_rl_dqn_to_sac_complete-main/videos3/rl-video-episode-6150.mp4.\n",
      "Moviepy - Writing video /home/akhters/Reinforcement Learning/advanced_rl_dqn_to_sac_complete-main/videos3/rl-video-episode-6150.mp4\n",
      "\n"
     ]
    },
    {
     "name": "stderr",
     "output_type": "stream",
     "text": []
    },
    {
     "name": "stdout",
     "output_type": "stream",
     "text": [
      "Moviepy - Done !\n",
      "Moviepy - video ready /home/akhters/Reinforcement Learning/advanced_rl_dqn_to_sac_complete-main/videos3/rl-video-episode-6150.mp4\n",
      "Moviepy - Building video /home/akhters/Reinforcement Learning/advanced_rl_dqn_to_sac_complete-main/videos3/rl-video-episode-6200.mp4.\n",
      "Moviepy - Writing video /home/akhters/Reinforcement Learning/advanced_rl_dqn_to_sac_complete-main/videos3/rl-video-episode-6200.mp4\n",
      "\n"
     ]
    },
    {
     "name": "stderr",
     "output_type": "stream",
     "text": []
    },
    {
     "name": "stdout",
     "output_type": "stream",
     "text": [
      "Moviepy - Done !\n",
      "Moviepy - video ready /home/akhters/Reinforcement Learning/advanced_rl_dqn_to_sac_complete-main/videos3/rl-video-episode-6200.mp4\n",
      "Moviepy - Building video /home/akhters/Reinforcement Learning/advanced_rl_dqn_to_sac_complete-main/videos3/rl-video-episode-6250.mp4.\n",
      "Moviepy - Writing video /home/akhters/Reinforcement Learning/advanced_rl_dqn_to_sac_complete-main/videos3/rl-video-episode-6250.mp4\n",
      "\n"
     ]
    },
    {
     "name": "stderr",
     "output_type": "stream",
     "text": []
    },
    {
     "name": "stdout",
     "output_type": "stream",
     "text": [
      "Moviepy - Done !\n",
      "Moviepy - video ready /home/akhters/Reinforcement Learning/advanced_rl_dqn_to_sac_complete-main/videos3/rl-video-episode-6250.mp4\n",
      "Moviepy - Building video /home/akhters/Reinforcement Learning/advanced_rl_dqn_to_sac_complete-main/videos3/rl-video-episode-6300.mp4.\n",
      "Moviepy - Writing video /home/akhters/Reinforcement Learning/advanced_rl_dqn_to_sac_complete-main/videos3/rl-video-episode-6300.mp4\n",
      "\n"
     ]
    },
    {
     "name": "stderr",
     "output_type": "stream",
     "text": []
    },
    {
     "name": "stdout",
     "output_type": "stream",
     "text": [
      "Moviepy - Done !\n",
      "Moviepy - video ready /home/akhters/Reinforcement Learning/advanced_rl_dqn_to_sac_complete-main/videos3/rl-video-episode-6300.mp4\n",
      "Moviepy - Building video /home/akhters/Reinforcement Learning/advanced_rl_dqn_to_sac_complete-main/videos3/rl-video-episode-6350.mp4.\n",
      "Moviepy - Writing video /home/akhters/Reinforcement Learning/advanced_rl_dqn_to_sac_complete-main/videos3/rl-video-episode-6350.mp4\n",
      "\n"
     ]
    },
    {
     "name": "stderr",
     "output_type": "stream",
     "text": []
    },
    {
     "name": "stdout",
     "output_type": "stream",
     "text": [
      "Moviepy - Done !\n",
      "Moviepy - video ready /home/akhters/Reinforcement Learning/advanced_rl_dqn_to_sac_complete-main/videos3/rl-video-episode-6350.mp4\n",
      "Moviepy - Building video /home/akhters/Reinforcement Learning/advanced_rl_dqn_to_sac_complete-main/videos3/rl-video-episode-6400.mp4.\n",
      "Moviepy - Writing video /home/akhters/Reinforcement Learning/advanced_rl_dqn_to_sac_complete-main/videos3/rl-video-episode-6400.mp4\n",
      "\n"
     ]
    },
    {
     "name": "stderr",
     "output_type": "stream",
     "text": []
    },
    {
     "name": "stdout",
     "output_type": "stream",
     "text": [
      "Moviepy - Done !\n",
      "Moviepy - video ready /home/akhters/Reinforcement Learning/advanced_rl_dqn_to_sac_complete-main/videos3/rl-video-episode-6400.mp4\n",
      "Moviepy - Building video /home/akhters/Reinforcement Learning/advanced_rl_dqn_to_sac_complete-main/videos3/rl-video-episode-6450.mp4.\n",
      "Moviepy - Writing video /home/akhters/Reinforcement Learning/advanced_rl_dqn_to_sac_complete-main/videos3/rl-video-episode-6450.mp4\n",
      "\n"
     ]
    },
    {
     "name": "stderr",
     "output_type": "stream",
     "text": []
    },
    {
     "name": "stdout",
     "output_type": "stream",
     "text": [
      "Moviepy - Done !\n",
      "Moviepy - video ready /home/akhters/Reinforcement Learning/advanced_rl_dqn_to_sac_complete-main/videos3/rl-video-episode-6450.mp4\n",
      "Moviepy - Building video /home/akhters/Reinforcement Learning/advanced_rl_dqn_to_sac_complete-main/videos3/rl-video-episode-6500.mp4.\n",
      "Moviepy - Writing video /home/akhters/Reinforcement Learning/advanced_rl_dqn_to_sac_complete-main/videos3/rl-video-episode-6500.mp4\n",
      "\n"
     ]
    },
    {
     "name": "stderr",
     "output_type": "stream",
     "text": []
    },
    {
     "name": "stdout",
     "output_type": "stream",
     "text": [
      "Moviepy - Done !\n",
      "Moviepy - video ready /home/akhters/Reinforcement Learning/advanced_rl_dqn_to_sac_complete-main/videos3/rl-video-episode-6500.mp4\n",
      "Moviepy - Building video /home/akhters/Reinforcement Learning/advanced_rl_dqn_to_sac_complete-main/videos3/rl-video-episode-6550.mp4.\n",
      "Moviepy - Writing video /home/akhters/Reinforcement Learning/advanced_rl_dqn_to_sac_complete-main/videos3/rl-video-episode-6550.mp4\n",
      "\n"
     ]
    },
    {
     "name": "stderr",
     "output_type": "stream",
     "text": []
    },
    {
     "name": "stdout",
     "output_type": "stream",
     "text": [
      "Moviepy - Done !\n",
      "Moviepy - video ready /home/akhters/Reinforcement Learning/advanced_rl_dqn_to_sac_complete-main/videos3/rl-video-episode-6550.mp4\n",
      "Moviepy - Building video /home/akhters/Reinforcement Learning/advanced_rl_dqn_to_sac_complete-main/videos3/rl-video-episode-6600.mp4.\n",
      "Moviepy - Writing video /home/akhters/Reinforcement Learning/advanced_rl_dqn_to_sac_complete-main/videos3/rl-video-episode-6600.mp4\n",
      "\n"
     ]
    },
    {
     "name": "stderr",
     "output_type": "stream",
     "text": []
    },
    {
     "name": "stdout",
     "output_type": "stream",
     "text": [
      "Moviepy - Done !\n",
      "Moviepy - video ready /home/akhters/Reinforcement Learning/advanced_rl_dqn_to_sac_complete-main/videos3/rl-video-episode-6600.mp4\n",
      "Moviepy - Building video /home/akhters/Reinforcement Learning/advanced_rl_dqn_to_sac_complete-main/videos3/rl-video-episode-6650.mp4.\n",
      "Moviepy - Writing video /home/akhters/Reinforcement Learning/advanced_rl_dqn_to_sac_complete-main/videos3/rl-video-episode-6650.mp4\n",
      "\n"
     ]
    },
    {
     "name": "stderr",
     "output_type": "stream",
     "text": []
    },
    {
     "name": "stdout",
     "output_type": "stream",
     "text": [
      "Moviepy - Done !\n",
      "Moviepy - video ready /home/akhters/Reinforcement Learning/advanced_rl_dqn_to_sac_complete-main/videos3/rl-video-episode-6650.mp4\n",
      "Moviepy - Building video /home/akhters/Reinforcement Learning/advanced_rl_dqn_to_sac_complete-main/videos3/rl-video-episode-6700.mp4.\n",
      "Moviepy - Writing video /home/akhters/Reinforcement Learning/advanced_rl_dqn_to_sac_complete-main/videos3/rl-video-episode-6700.mp4\n",
      "\n"
     ]
    },
    {
     "name": "stderr",
     "output_type": "stream",
     "text": []
    },
    {
     "name": "stdout",
     "output_type": "stream",
     "text": [
      "Moviepy - Done !\n",
      "Moviepy - video ready /home/akhters/Reinforcement Learning/advanced_rl_dqn_to_sac_complete-main/videos3/rl-video-episode-6700.mp4\n",
      "Moviepy - Building video /home/akhters/Reinforcement Learning/advanced_rl_dqn_to_sac_complete-main/videos3/rl-video-episode-6750.mp4.\n",
      "Moviepy - Writing video /home/akhters/Reinforcement Learning/advanced_rl_dqn_to_sac_complete-main/videos3/rl-video-episode-6750.mp4\n",
      "\n"
     ]
    },
    {
     "name": "stderr",
     "output_type": "stream",
     "text": []
    },
    {
     "name": "stdout",
     "output_type": "stream",
     "text": [
      "Moviepy - Done !\n",
      "Moviepy - video ready /home/akhters/Reinforcement Learning/advanced_rl_dqn_to_sac_complete-main/videos3/rl-video-episode-6750.mp4\n",
      "Moviepy - Building video /home/akhters/Reinforcement Learning/advanced_rl_dqn_to_sac_complete-main/videos3/rl-video-episode-6800.mp4.\n",
      "Moviepy - Writing video /home/akhters/Reinforcement Learning/advanced_rl_dqn_to_sac_complete-main/videos3/rl-video-episode-6800.mp4\n",
      "\n"
     ]
    },
    {
     "name": "stderr",
     "output_type": "stream",
     "text": []
    },
    {
     "name": "stdout",
     "output_type": "stream",
     "text": [
      "Moviepy - Done !\n",
      "Moviepy - video ready /home/akhters/Reinforcement Learning/advanced_rl_dqn_to_sac_complete-main/videos3/rl-video-episode-6800.mp4\n",
      "Moviepy - Building video /home/akhters/Reinforcement Learning/advanced_rl_dqn_to_sac_complete-main/videos3/rl-video-episode-6850.mp4.\n",
      "Moviepy - Writing video /home/akhters/Reinforcement Learning/advanced_rl_dqn_to_sac_complete-main/videos3/rl-video-episode-6850.mp4\n",
      "\n"
     ]
    },
    {
     "name": "stderr",
     "output_type": "stream",
     "text": []
    },
    {
     "name": "stdout",
     "output_type": "stream",
     "text": [
      "Moviepy - Done !\n",
      "Moviepy - video ready /home/akhters/Reinforcement Learning/advanced_rl_dqn_to_sac_complete-main/videos3/rl-video-episode-6850.mp4\n",
      "Moviepy - Building video /home/akhters/Reinforcement Learning/advanced_rl_dqn_to_sac_complete-main/videos3/rl-video-episode-6900.mp4.\n",
      "Moviepy - Writing video /home/akhters/Reinforcement Learning/advanced_rl_dqn_to_sac_complete-main/videos3/rl-video-episode-6900.mp4\n",
      "\n"
     ]
    },
    {
     "name": "stderr",
     "output_type": "stream",
     "text": []
    },
    {
     "name": "stdout",
     "output_type": "stream",
     "text": [
      "Moviepy - Done !\n",
      "Moviepy - video ready /home/akhters/Reinforcement Learning/advanced_rl_dqn_to_sac_complete-main/videos3/rl-video-episode-6900.mp4\n",
      "Moviepy - Building video /home/akhters/Reinforcement Learning/advanced_rl_dqn_to_sac_complete-main/videos3/rl-video-episode-6950.mp4.\n",
      "Moviepy - Writing video /home/akhters/Reinforcement Learning/advanced_rl_dqn_to_sac_complete-main/videos3/rl-video-episode-6950.mp4\n",
      "\n"
     ]
    },
    {
     "name": "stderr",
     "output_type": "stream",
     "text": []
    },
    {
     "name": "stdout",
     "output_type": "stream",
     "text": [
      "Moviepy - Done !\n",
      "Moviepy - video ready /home/akhters/Reinforcement Learning/advanced_rl_dqn_to_sac_complete-main/videos3/rl-video-episode-6950.mp4\n",
      "Moviepy - Building video /home/akhters/Reinforcement Learning/advanced_rl_dqn_to_sac_complete-main/videos3/rl-video-episode-7000.mp4.\n",
      "Moviepy - Writing video /home/akhters/Reinforcement Learning/advanced_rl_dqn_to_sac_complete-main/videos3/rl-video-episode-7000.mp4\n",
      "\n"
     ]
    },
    {
     "name": "stderr",
     "output_type": "stream",
     "text": []
    },
    {
     "name": "stdout",
     "output_type": "stream",
     "text": [
      "Moviepy - Done !\n",
      "Moviepy - video ready /home/akhters/Reinforcement Learning/advanced_rl_dqn_to_sac_complete-main/videos3/rl-video-episode-7000.mp4\n",
      "Moviepy - Building video /home/akhters/Reinforcement Learning/advanced_rl_dqn_to_sac_complete-main/videos3/rl-video-episode-7050.mp4.\n",
      "Moviepy - Writing video /home/akhters/Reinforcement Learning/advanced_rl_dqn_to_sac_complete-main/videos3/rl-video-episode-7050.mp4\n",
      "\n"
     ]
    },
    {
     "name": "stderr",
     "output_type": "stream",
     "text": []
    },
    {
     "name": "stdout",
     "output_type": "stream",
     "text": [
      "Moviepy - Done !\n",
      "Moviepy - video ready /home/akhters/Reinforcement Learning/advanced_rl_dqn_to_sac_complete-main/videos3/rl-video-episode-7050.mp4\n",
      "Moviepy - Building video /home/akhters/Reinforcement Learning/advanced_rl_dqn_to_sac_complete-main/videos3/rl-video-episode-7100.mp4.\n",
      "Moviepy - Writing video /home/akhters/Reinforcement Learning/advanced_rl_dqn_to_sac_complete-main/videos3/rl-video-episode-7100.mp4\n",
      "\n"
     ]
    },
    {
     "name": "stderr",
     "output_type": "stream",
     "text": []
    },
    {
     "name": "stdout",
     "output_type": "stream",
     "text": [
      "Moviepy - Done !\n",
      "Moviepy - video ready /home/akhters/Reinforcement Learning/advanced_rl_dqn_to_sac_complete-main/videos3/rl-video-episode-7100.mp4\n",
      "Moviepy - Building video /home/akhters/Reinforcement Learning/advanced_rl_dqn_to_sac_complete-main/videos3/rl-video-episode-7150.mp4.\n",
      "Moviepy - Writing video /home/akhters/Reinforcement Learning/advanced_rl_dqn_to_sac_complete-main/videos3/rl-video-episode-7150.mp4\n",
      "\n"
     ]
    },
    {
     "name": "stderr",
     "output_type": "stream",
     "text": []
    },
    {
     "name": "stdout",
     "output_type": "stream",
     "text": [
      "Moviepy - Done !\n",
      "Moviepy - video ready /home/akhters/Reinforcement Learning/advanced_rl_dqn_to_sac_complete-main/videos3/rl-video-episode-7150.mp4\n",
      "Moviepy - Building video /home/akhters/Reinforcement Learning/advanced_rl_dqn_to_sac_complete-main/videos3/rl-video-episode-7200.mp4.\n",
      "Moviepy - Writing video /home/akhters/Reinforcement Learning/advanced_rl_dqn_to_sac_complete-main/videos3/rl-video-episode-7200.mp4\n",
      "\n"
     ]
    },
    {
     "name": "stderr",
     "output_type": "stream",
     "text": []
    },
    {
     "name": "stdout",
     "output_type": "stream",
     "text": [
      "Moviepy - Done !\n",
      "Moviepy - video ready /home/akhters/Reinforcement Learning/advanced_rl_dqn_to_sac_complete-main/videos3/rl-video-episode-7200.mp4\n",
      "Moviepy - Building video /home/akhters/Reinforcement Learning/advanced_rl_dqn_to_sac_complete-main/videos3/rl-video-episode-7250.mp4.\n",
      "Moviepy - Writing video /home/akhters/Reinforcement Learning/advanced_rl_dqn_to_sac_complete-main/videos3/rl-video-episode-7250.mp4\n",
      "\n"
     ]
    },
    {
     "name": "stderr",
     "output_type": "stream",
     "text": []
    },
    {
     "name": "stdout",
     "output_type": "stream",
     "text": [
      "Moviepy - Done !\n",
      "Moviepy - video ready /home/akhters/Reinforcement Learning/advanced_rl_dqn_to_sac_complete-main/videos3/rl-video-episode-7250.mp4\n",
      "Moviepy - Building video /home/akhters/Reinforcement Learning/advanced_rl_dqn_to_sac_complete-main/videos3/rl-video-episode-7300.mp4.\n",
      "Moviepy - Writing video /home/akhters/Reinforcement Learning/advanced_rl_dqn_to_sac_complete-main/videos3/rl-video-episode-7300.mp4\n",
      "\n"
     ]
    },
    {
     "name": "stderr",
     "output_type": "stream",
     "text": []
    },
    {
     "name": "stdout",
     "output_type": "stream",
     "text": [
      "Moviepy - Done !\n",
      "Moviepy - video ready /home/akhters/Reinforcement Learning/advanced_rl_dqn_to_sac_complete-main/videos3/rl-video-episode-7300.mp4\n",
      "Moviepy - Building video /home/akhters/Reinforcement Learning/advanced_rl_dqn_to_sac_complete-main/videos3/rl-video-episode-7350.mp4.\n",
      "Moviepy - Writing video /home/akhters/Reinforcement Learning/advanced_rl_dqn_to_sac_complete-main/videos3/rl-video-episode-7350.mp4\n",
      "\n"
     ]
    },
    {
     "name": "stderr",
     "output_type": "stream",
     "text": []
    },
    {
     "name": "stdout",
     "output_type": "stream",
     "text": [
      "Moviepy - Done !\n",
      "Moviepy - video ready /home/akhters/Reinforcement Learning/advanced_rl_dqn_to_sac_complete-main/videos3/rl-video-episode-7350.mp4\n",
      "Moviepy - Building video /home/akhters/Reinforcement Learning/advanced_rl_dqn_to_sac_complete-main/videos3/rl-video-episode-7400.mp4.\n",
      "Moviepy - Writing video /home/akhters/Reinforcement Learning/advanced_rl_dqn_to_sac_complete-main/videos3/rl-video-episode-7400.mp4\n",
      "\n"
     ]
    },
    {
     "name": "stderr",
     "output_type": "stream",
     "text": []
    },
    {
     "name": "stdout",
     "output_type": "stream",
     "text": [
      "Moviepy - Done !\n",
      "Moviepy - video ready /home/akhters/Reinforcement Learning/advanced_rl_dqn_to_sac_complete-main/videos3/rl-video-episode-7400.mp4\n",
      "Moviepy - Building video /home/akhters/Reinforcement Learning/advanced_rl_dqn_to_sac_complete-main/videos3/rl-video-episode-7450.mp4.\n",
      "Moviepy - Writing video /home/akhters/Reinforcement Learning/advanced_rl_dqn_to_sac_complete-main/videos3/rl-video-episode-7450.mp4\n",
      "\n"
     ]
    },
    {
     "name": "stderr",
     "output_type": "stream",
     "text": []
    },
    {
     "name": "stdout",
     "output_type": "stream",
     "text": [
      "Moviepy - Done !\n",
      "Moviepy - video ready /home/akhters/Reinforcement Learning/advanced_rl_dqn_to_sac_complete-main/videos3/rl-video-episode-7450.mp4\n",
      "Moviepy - Building video /home/akhters/Reinforcement Learning/advanced_rl_dqn_to_sac_complete-main/videos3/rl-video-episode-7500.mp4.\n",
      "Moviepy - Writing video /home/akhters/Reinforcement Learning/advanced_rl_dqn_to_sac_complete-main/videos3/rl-video-episode-7500.mp4\n",
      "\n"
     ]
    },
    {
     "name": "stderr",
     "output_type": "stream",
     "text": []
    },
    {
     "name": "stdout",
     "output_type": "stream",
     "text": [
      "Moviepy - Done !\n",
      "Moviepy - video ready /home/akhters/Reinforcement Learning/advanced_rl_dqn_to_sac_complete-main/videos3/rl-video-episode-7500.mp4\n",
      "Moviepy - Building video /home/akhters/Reinforcement Learning/advanced_rl_dqn_to_sac_complete-main/videos3/rl-video-episode-7550.mp4.\n",
      "Moviepy - Writing video /home/akhters/Reinforcement Learning/advanced_rl_dqn_to_sac_complete-main/videos3/rl-video-episode-7550.mp4\n",
      "\n"
     ]
    },
    {
     "name": "stderr",
     "output_type": "stream",
     "text": []
    },
    {
     "name": "stdout",
     "output_type": "stream",
     "text": [
      "Moviepy - Done !\n",
      "Moviepy - video ready /home/akhters/Reinforcement Learning/advanced_rl_dqn_to_sac_complete-main/videos3/rl-video-episode-7550.mp4\n",
      "Moviepy - Building video /home/akhters/Reinforcement Learning/advanced_rl_dqn_to_sac_complete-main/videos3/rl-video-episode-7600.mp4.\n",
      "Moviepy - Writing video /home/akhters/Reinforcement Learning/advanced_rl_dqn_to_sac_complete-main/videos3/rl-video-episode-7600.mp4\n",
      "\n"
     ]
    },
    {
     "name": "stderr",
     "output_type": "stream",
     "text": []
    },
    {
     "name": "stdout",
     "output_type": "stream",
     "text": [
      "Moviepy - Done !\n",
      "Moviepy - video ready /home/akhters/Reinforcement Learning/advanced_rl_dqn_to_sac_complete-main/videos3/rl-video-episode-7600.mp4\n",
      "Moviepy - Building video /home/akhters/Reinforcement Learning/advanced_rl_dqn_to_sac_complete-main/videos3/rl-video-episode-7650.mp4.\n",
      "Moviepy - Writing video /home/akhters/Reinforcement Learning/advanced_rl_dqn_to_sac_complete-main/videos3/rl-video-episode-7650.mp4\n",
      "\n"
     ]
    },
    {
     "name": "stderr",
     "output_type": "stream",
     "text": []
    },
    {
     "name": "stdout",
     "output_type": "stream",
     "text": [
      "Moviepy - Done !\n",
      "Moviepy - video ready /home/akhters/Reinforcement Learning/advanced_rl_dqn_to_sac_complete-main/videos3/rl-video-episode-7650.mp4\n",
      "Moviepy - Building video /home/akhters/Reinforcement Learning/advanced_rl_dqn_to_sac_complete-main/videos3/rl-video-episode-7700.mp4.\n",
      "Moviepy - Writing video /home/akhters/Reinforcement Learning/advanced_rl_dqn_to_sac_complete-main/videos3/rl-video-episode-7700.mp4\n",
      "\n"
     ]
    },
    {
     "name": "stderr",
     "output_type": "stream",
     "text": []
    },
    {
     "name": "stdout",
     "output_type": "stream",
     "text": [
      "Moviepy - Done !\n",
      "Moviepy - video ready /home/akhters/Reinforcement Learning/advanced_rl_dqn_to_sac_complete-main/videos3/rl-video-episode-7700.mp4\n",
      "Moviepy - Building video /home/akhters/Reinforcement Learning/advanced_rl_dqn_to_sac_complete-main/videos3/rl-video-episode-7750.mp4.\n",
      "Moviepy - Writing video /home/akhters/Reinforcement Learning/advanced_rl_dqn_to_sac_complete-main/videos3/rl-video-episode-7750.mp4\n",
      "\n"
     ]
    },
    {
     "name": "stderr",
     "output_type": "stream",
     "text": []
    },
    {
     "name": "stdout",
     "output_type": "stream",
     "text": [
      "Moviepy - Done !\n",
      "Moviepy - video ready /home/akhters/Reinforcement Learning/advanced_rl_dqn_to_sac_complete-main/videos3/rl-video-episode-7750.mp4\n",
      "Moviepy - Building video /home/akhters/Reinforcement Learning/advanced_rl_dqn_to_sac_complete-main/videos3/rl-video-episode-7800.mp4.\n",
      "Moviepy - Writing video /home/akhters/Reinforcement Learning/advanced_rl_dqn_to_sac_complete-main/videos3/rl-video-episode-7800.mp4\n",
      "\n"
     ]
    },
    {
     "name": "stderr",
     "output_type": "stream",
     "text": []
    },
    {
     "name": "stdout",
     "output_type": "stream",
     "text": [
      "Moviepy - Done !\n",
      "Moviepy - video ready /home/akhters/Reinforcement Learning/advanced_rl_dqn_to_sac_complete-main/videos3/rl-video-episode-7800.mp4\n",
      "Moviepy - Building video /home/akhters/Reinforcement Learning/advanced_rl_dqn_to_sac_complete-main/videos3/rl-video-episode-7850.mp4.\n",
      "Moviepy - Writing video /home/akhters/Reinforcement Learning/advanced_rl_dqn_to_sac_complete-main/videos3/rl-video-episode-7850.mp4\n",
      "\n"
     ]
    },
    {
     "name": "stderr",
     "output_type": "stream",
     "text": []
    },
    {
     "name": "stdout",
     "output_type": "stream",
     "text": [
      "Moviepy - Done !\n",
      "Moviepy - video ready /home/akhters/Reinforcement Learning/advanced_rl_dqn_to_sac_complete-main/videos3/rl-video-episode-7850.mp4\n",
      "Moviepy - Building video /home/akhters/Reinforcement Learning/advanced_rl_dqn_to_sac_complete-main/videos3/rl-video-episode-7900.mp4.\n",
      "Moviepy - Writing video /home/akhters/Reinforcement Learning/advanced_rl_dqn_to_sac_complete-main/videos3/rl-video-episode-7900.mp4\n",
      "\n"
     ]
    },
    {
     "name": "stderr",
     "output_type": "stream",
     "text": []
    },
    {
     "name": "stdout",
     "output_type": "stream",
     "text": [
      "Moviepy - Done !\n",
      "Moviepy - video ready /home/akhters/Reinforcement Learning/advanced_rl_dqn_to_sac_complete-main/videos3/rl-video-episode-7900.mp4\n",
      "Moviepy - Building video /home/akhters/Reinforcement Learning/advanced_rl_dqn_to_sac_complete-main/videos3/rl-video-episode-7950.mp4.\n",
      "Moviepy - Writing video /home/akhters/Reinforcement Learning/advanced_rl_dqn_to_sac_complete-main/videos3/rl-video-episode-7950.mp4\n",
      "\n"
     ]
    },
    {
     "name": "stderr",
     "output_type": "stream",
     "text": []
    },
    {
     "name": "stdout",
     "output_type": "stream",
     "text": [
      "Moviepy - Done !\n",
      "Moviepy - video ready /home/akhters/Reinforcement Learning/advanced_rl_dqn_to_sac_complete-main/videos3/rl-video-episode-7950.mp4\n",
      "Moviepy - Building video /home/akhters/Reinforcement Learning/advanced_rl_dqn_to_sac_complete-main/videos3/rl-video-episode-8000.mp4.\n",
      "Moviepy - Writing video /home/akhters/Reinforcement Learning/advanced_rl_dqn_to_sac_complete-main/videos3/rl-video-episode-8000.mp4\n",
      "\n"
     ]
    },
    {
     "name": "stderr",
     "output_type": "stream",
     "text": []
    },
    {
     "name": "stdout",
     "output_type": "stream",
     "text": [
      "Moviepy - Done !\n",
      "Moviepy - video ready /home/akhters/Reinforcement Learning/advanced_rl_dqn_to_sac_complete-main/videos3/rl-video-episode-8000.mp4\n",
      "Moviepy - Building video /home/akhters/Reinforcement Learning/advanced_rl_dqn_to_sac_complete-main/videos3/rl-video-episode-8050.mp4.\n",
      "Moviepy - Writing video /home/akhters/Reinforcement Learning/advanced_rl_dqn_to_sac_complete-main/videos3/rl-video-episode-8050.mp4\n",
      "\n"
     ]
    },
    {
     "name": "stderr",
     "output_type": "stream",
     "text": []
    },
    {
     "name": "stdout",
     "output_type": "stream",
     "text": [
      "Moviepy - Done !\n",
      "Moviepy - video ready /home/akhters/Reinforcement Learning/advanced_rl_dqn_to_sac_complete-main/videos3/rl-video-episode-8050.mp4\n",
      "Moviepy - Building video /home/akhters/Reinforcement Learning/advanced_rl_dqn_to_sac_complete-main/videos3/rl-video-episode-8100.mp4.\n",
      "Moviepy - Writing video /home/akhters/Reinforcement Learning/advanced_rl_dqn_to_sac_complete-main/videos3/rl-video-episode-8100.mp4\n",
      "\n"
     ]
    },
    {
     "name": "stderr",
     "output_type": "stream",
     "text": []
    },
    {
     "name": "stdout",
     "output_type": "stream",
     "text": [
      "Moviepy - Done !\n",
      "Moviepy - video ready /home/akhters/Reinforcement Learning/advanced_rl_dqn_to_sac_complete-main/videos3/rl-video-episode-8100.mp4\n",
      "Moviepy - Building video /home/akhters/Reinforcement Learning/advanced_rl_dqn_to_sac_complete-main/videos3/rl-video-episode-8150.mp4.\n",
      "Moviepy - Writing video /home/akhters/Reinforcement Learning/advanced_rl_dqn_to_sac_complete-main/videos3/rl-video-episode-8150.mp4\n",
      "\n"
     ]
    },
    {
     "name": "stderr",
     "output_type": "stream",
     "text": []
    },
    {
     "name": "stdout",
     "output_type": "stream",
     "text": [
      "Moviepy - Done !\n",
      "Moviepy - video ready /home/akhters/Reinforcement Learning/advanced_rl_dqn_to_sac_complete-main/videos3/rl-video-episode-8150.mp4\n",
      "Moviepy - Building video /home/akhters/Reinforcement Learning/advanced_rl_dqn_to_sac_complete-main/videos3/rl-video-episode-8200.mp4.\n",
      "Moviepy - Writing video /home/akhters/Reinforcement Learning/advanced_rl_dqn_to_sac_complete-main/videos3/rl-video-episode-8200.mp4\n",
      "\n"
     ]
    },
    {
     "name": "stderr",
     "output_type": "stream",
     "text": []
    },
    {
     "name": "stdout",
     "output_type": "stream",
     "text": [
      "Moviepy - Done !\n",
      "Moviepy - video ready /home/akhters/Reinforcement Learning/advanced_rl_dqn_to_sac_complete-main/videos3/rl-video-episode-8200.mp4\n",
      "Moviepy - Building video /home/akhters/Reinforcement Learning/advanced_rl_dqn_to_sac_complete-main/videos3/rl-video-episode-8250.mp4.\n",
      "Moviepy - Writing video /home/akhters/Reinforcement Learning/advanced_rl_dqn_to_sac_complete-main/videos3/rl-video-episode-8250.mp4\n",
      "\n"
     ]
    },
    {
     "name": "stderr",
     "output_type": "stream",
     "text": []
    },
    {
     "name": "stdout",
     "output_type": "stream",
     "text": [
      "Moviepy - Done !\n",
      "Moviepy - video ready /home/akhters/Reinforcement Learning/advanced_rl_dqn_to_sac_complete-main/videos3/rl-video-episode-8250.mp4\n",
      "Moviepy - Building video /home/akhters/Reinforcement Learning/advanced_rl_dqn_to_sac_complete-main/videos3/rl-video-episode-8300.mp4.\n",
      "Moviepy - Writing video /home/akhters/Reinforcement Learning/advanced_rl_dqn_to_sac_complete-main/videos3/rl-video-episode-8300.mp4\n",
      "\n"
     ]
    },
    {
     "name": "stderr",
     "output_type": "stream",
     "text": []
    },
    {
     "name": "stdout",
     "output_type": "stream",
     "text": [
      "Moviepy - Done !\n",
      "Moviepy - video ready /home/akhters/Reinforcement Learning/advanced_rl_dqn_to_sac_complete-main/videos3/rl-video-episode-8300.mp4\n",
      "Moviepy - Building video /home/akhters/Reinforcement Learning/advanced_rl_dqn_to_sac_complete-main/videos3/rl-video-episode-8350.mp4.\n",
      "Moviepy - Writing video /home/akhters/Reinforcement Learning/advanced_rl_dqn_to_sac_complete-main/videos3/rl-video-episode-8350.mp4\n",
      "\n"
     ]
    },
    {
     "name": "stderr",
     "output_type": "stream",
     "text": []
    },
    {
     "name": "stdout",
     "output_type": "stream",
     "text": [
      "Moviepy - Done !\n",
      "Moviepy - video ready /home/akhters/Reinforcement Learning/advanced_rl_dqn_to_sac_complete-main/videos3/rl-video-episode-8350.mp4\n",
      "Moviepy - Building video /home/akhters/Reinforcement Learning/advanced_rl_dqn_to_sac_complete-main/videos3/rl-video-episode-8400.mp4.\n",
      "Moviepy - Writing video /home/akhters/Reinforcement Learning/advanced_rl_dqn_to_sac_complete-main/videos3/rl-video-episode-8400.mp4\n",
      "\n"
     ]
    },
    {
     "name": "stderr",
     "output_type": "stream",
     "text": []
    },
    {
     "name": "stdout",
     "output_type": "stream",
     "text": [
      "Moviepy - Done !\n",
      "Moviepy - video ready /home/akhters/Reinforcement Learning/advanced_rl_dqn_to_sac_complete-main/videos3/rl-video-episode-8400.mp4\n",
      "Moviepy - Building video /home/akhters/Reinforcement Learning/advanced_rl_dqn_to_sac_complete-main/videos3/rl-video-episode-8450.mp4.\n",
      "Moviepy - Writing video /home/akhters/Reinforcement Learning/advanced_rl_dqn_to_sac_complete-main/videos3/rl-video-episode-8450.mp4\n",
      "\n"
     ]
    },
    {
     "name": "stderr",
     "output_type": "stream",
     "text": []
    },
    {
     "name": "stdout",
     "output_type": "stream",
     "text": [
      "Moviepy - Done !\n",
      "Moviepy - video ready /home/akhters/Reinforcement Learning/advanced_rl_dqn_to_sac_complete-main/videos3/rl-video-episode-8450.mp4\n",
      "Moviepy - Building video /home/akhters/Reinforcement Learning/advanced_rl_dqn_to_sac_complete-main/videos3/rl-video-episode-8500.mp4.\n",
      "Moviepy - Writing video /home/akhters/Reinforcement Learning/advanced_rl_dqn_to_sac_complete-main/videos3/rl-video-episode-8500.mp4\n",
      "\n"
     ]
    },
    {
     "name": "stderr",
     "output_type": "stream",
     "text": []
    },
    {
     "name": "stdout",
     "output_type": "stream",
     "text": [
      "Moviepy - Done !\n",
      "Moviepy - video ready /home/akhters/Reinforcement Learning/advanced_rl_dqn_to_sac_complete-main/videos3/rl-video-episode-8500.mp4\n",
      "Moviepy - Building video /home/akhters/Reinforcement Learning/advanced_rl_dqn_to_sac_complete-main/videos3/rl-video-episode-8550.mp4.\n",
      "Moviepy - Writing video /home/akhters/Reinforcement Learning/advanced_rl_dqn_to_sac_complete-main/videos3/rl-video-episode-8550.mp4\n",
      "\n"
     ]
    },
    {
     "name": "stderr",
     "output_type": "stream",
     "text": []
    },
    {
     "name": "stdout",
     "output_type": "stream",
     "text": [
      "Moviepy - Done !\n",
      "Moviepy - video ready /home/akhters/Reinforcement Learning/advanced_rl_dqn_to_sac_complete-main/videos3/rl-video-episode-8550.mp4\n",
      "Moviepy - Building video /home/akhters/Reinforcement Learning/advanced_rl_dqn_to_sac_complete-main/videos3/rl-video-episode-8600.mp4.\n",
      "Moviepy - Writing video /home/akhters/Reinforcement Learning/advanced_rl_dqn_to_sac_complete-main/videos3/rl-video-episode-8600.mp4\n",
      "\n"
     ]
    },
    {
     "name": "stderr",
     "output_type": "stream",
     "text": []
    },
    {
     "name": "stdout",
     "output_type": "stream",
     "text": [
      "Moviepy - Done !\n",
      "Moviepy - video ready /home/akhters/Reinforcement Learning/advanced_rl_dqn_to_sac_complete-main/videos3/rl-video-episode-8600.mp4\n",
      "Moviepy - Building video /home/akhters/Reinforcement Learning/advanced_rl_dqn_to_sac_complete-main/videos3/rl-video-episode-8650.mp4.\n",
      "Moviepy - Writing video /home/akhters/Reinforcement Learning/advanced_rl_dqn_to_sac_complete-main/videos3/rl-video-episode-8650.mp4\n",
      "\n"
     ]
    },
    {
     "name": "stderr",
     "output_type": "stream",
     "text": []
    },
    {
     "name": "stdout",
     "output_type": "stream",
     "text": [
      "Moviepy - Done !\n",
      "Moviepy - video ready /home/akhters/Reinforcement Learning/advanced_rl_dqn_to_sac_complete-main/videos3/rl-video-episode-8650.mp4\n",
      "Moviepy - Building video /home/akhters/Reinforcement Learning/advanced_rl_dqn_to_sac_complete-main/videos3/rl-video-episode-8700.mp4.\n",
      "Moviepy - Writing video /home/akhters/Reinforcement Learning/advanced_rl_dqn_to_sac_complete-main/videos3/rl-video-episode-8700.mp4\n",
      "\n"
     ]
    },
    {
     "name": "stderr",
     "output_type": "stream",
     "text": []
    },
    {
     "name": "stdout",
     "output_type": "stream",
     "text": [
      "Moviepy - Done !\n",
      "Moviepy - video ready /home/akhters/Reinforcement Learning/advanced_rl_dqn_to_sac_complete-main/videos3/rl-video-episode-8700.mp4\n",
      "Moviepy - Building video /home/akhters/Reinforcement Learning/advanced_rl_dqn_to_sac_complete-main/videos3/rl-video-episode-8750.mp4.\n",
      "Moviepy - Writing video /home/akhters/Reinforcement Learning/advanced_rl_dqn_to_sac_complete-main/videos3/rl-video-episode-8750.mp4\n",
      "\n"
     ]
    },
    {
     "name": "stderr",
     "output_type": "stream",
     "text": []
    },
    {
     "name": "stdout",
     "output_type": "stream",
     "text": [
      "Moviepy - Done !\n",
      "Moviepy - video ready /home/akhters/Reinforcement Learning/advanced_rl_dqn_to_sac_complete-main/videos3/rl-video-episode-8750.mp4\n",
      "Moviepy - Building video /home/akhters/Reinforcement Learning/advanced_rl_dqn_to_sac_complete-main/videos3/rl-video-episode-8800.mp4.\n",
      "Moviepy - Writing video /home/akhters/Reinforcement Learning/advanced_rl_dqn_to_sac_complete-main/videos3/rl-video-episode-8800.mp4\n",
      "\n"
     ]
    },
    {
     "name": "stderr",
     "output_type": "stream",
     "text": []
    },
    {
     "name": "stdout",
     "output_type": "stream",
     "text": [
      "Moviepy - Done !\n",
      "Moviepy - video ready /home/akhters/Reinforcement Learning/advanced_rl_dqn_to_sac_complete-main/videos3/rl-video-episode-8800.mp4\n",
      "Moviepy - Building video /home/akhters/Reinforcement Learning/advanced_rl_dqn_to_sac_complete-main/videos3/rl-video-episode-8850.mp4.\n",
      "Moviepy - Writing video /home/akhters/Reinforcement Learning/advanced_rl_dqn_to_sac_complete-main/videos3/rl-video-episode-8850.mp4\n",
      "\n"
     ]
    },
    {
     "name": "stderr",
     "output_type": "stream",
     "text": []
    },
    {
     "name": "stdout",
     "output_type": "stream",
     "text": [
      "Moviepy - Done !\n",
      "Moviepy - video ready /home/akhters/Reinforcement Learning/advanced_rl_dqn_to_sac_complete-main/videos3/rl-video-episode-8850.mp4\n",
      "Moviepy - Building video /home/akhters/Reinforcement Learning/advanced_rl_dqn_to_sac_complete-main/videos3/rl-video-episode-8900.mp4.\n",
      "Moviepy - Writing video /home/akhters/Reinforcement Learning/advanced_rl_dqn_to_sac_complete-main/videos3/rl-video-episode-8900.mp4\n",
      "\n"
     ]
    },
    {
     "name": "stderr",
     "output_type": "stream",
     "text": []
    },
    {
     "name": "stdout",
     "output_type": "stream",
     "text": [
      "Moviepy - Done !\n",
      "Moviepy - video ready /home/akhters/Reinforcement Learning/advanced_rl_dqn_to_sac_complete-main/videos3/rl-video-episode-8900.mp4\n",
      "Moviepy - Building video /home/akhters/Reinforcement Learning/advanced_rl_dqn_to_sac_complete-main/videos3/rl-video-episode-8950.mp4.\n",
      "Moviepy - Writing video /home/akhters/Reinforcement Learning/advanced_rl_dqn_to_sac_complete-main/videos3/rl-video-episode-8950.mp4\n",
      "\n"
     ]
    },
    {
     "name": "stderr",
     "output_type": "stream",
     "text": []
    },
    {
     "name": "stdout",
     "output_type": "stream",
     "text": [
      "Moviepy - Done !\n",
      "Moviepy - video ready /home/akhters/Reinforcement Learning/advanced_rl_dqn_to_sac_complete-main/videos3/rl-video-episode-8950.mp4\n",
      "Moviepy - Building video /home/akhters/Reinforcement Learning/advanced_rl_dqn_to_sac_complete-main/videos3/rl-video-episode-9000.mp4.\n",
      "Moviepy - Writing video /home/akhters/Reinforcement Learning/advanced_rl_dqn_to_sac_complete-main/videos3/rl-video-episode-9000.mp4\n",
      "\n"
     ]
    },
    {
     "name": "stderr",
     "output_type": "stream",
     "text": []
    },
    {
     "name": "stdout",
     "output_type": "stream",
     "text": [
      "Moviepy - Done !\n",
      "Moviepy - video ready /home/akhters/Reinforcement Learning/advanced_rl_dqn_to_sac_complete-main/videos3/rl-video-episode-9000.mp4\n",
      "Moviepy - Building video /home/akhters/Reinforcement Learning/advanced_rl_dqn_to_sac_complete-main/videos3/rl-video-episode-9050.mp4.\n",
      "Moviepy - Writing video /home/akhters/Reinforcement Learning/advanced_rl_dqn_to_sac_complete-main/videos3/rl-video-episode-9050.mp4\n",
      "\n"
     ]
    },
    {
     "name": "stderr",
     "output_type": "stream",
     "text": []
    },
    {
     "name": "stdout",
     "output_type": "stream",
     "text": [
      "Moviepy - Done !\n",
      "Moviepy - video ready /home/akhters/Reinforcement Learning/advanced_rl_dqn_to_sac_complete-main/videos3/rl-video-episode-9050.mp4\n",
      "Moviepy - Building video /home/akhters/Reinforcement Learning/advanced_rl_dqn_to_sac_complete-main/videos3/rl-video-episode-9100.mp4.\n",
      "Moviepy - Writing video /home/akhters/Reinforcement Learning/advanced_rl_dqn_to_sac_complete-main/videos3/rl-video-episode-9100.mp4\n",
      "\n"
     ]
    },
    {
     "name": "stderr",
     "output_type": "stream",
     "text": []
    },
    {
     "name": "stdout",
     "output_type": "stream",
     "text": [
      "Moviepy - Done !\n",
      "Moviepy - video ready /home/akhters/Reinforcement Learning/advanced_rl_dqn_to_sac_complete-main/videos3/rl-video-episode-9100.mp4\n",
      "Moviepy - Building video /home/akhters/Reinforcement Learning/advanced_rl_dqn_to_sac_complete-main/videos3/rl-video-episode-9150.mp4.\n",
      "Moviepy - Writing video /home/akhters/Reinforcement Learning/advanced_rl_dqn_to_sac_complete-main/videos3/rl-video-episode-9150.mp4\n",
      "\n"
     ]
    },
    {
     "name": "stderr",
     "output_type": "stream",
     "text": []
    },
    {
     "name": "stdout",
     "output_type": "stream",
     "text": [
      "Moviepy - Done !\n",
      "Moviepy - video ready /home/akhters/Reinforcement Learning/advanced_rl_dqn_to_sac_complete-main/videos3/rl-video-episode-9150.mp4\n",
      "Moviepy - Building video /home/akhters/Reinforcement Learning/advanced_rl_dqn_to_sac_complete-main/videos3/rl-video-episode-9200.mp4.\n",
      "Moviepy - Writing video /home/akhters/Reinforcement Learning/advanced_rl_dqn_to_sac_complete-main/videos3/rl-video-episode-9200.mp4\n",
      "\n"
     ]
    },
    {
     "name": "stderr",
     "output_type": "stream",
     "text": []
    },
    {
     "name": "stdout",
     "output_type": "stream",
     "text": [
      "Moviepy - Done !\n",
      "Moviepy - video ready /home/akhters/Reinforcement Learning/advanced_rl_dqn_to_sac_complete-main/videos3/rl-video-episode-9200.mp4\n",
      "Moviepy - Building video /home/akhters/Reinforcement Learning/advanced_rl_dqn_to_sac_complete-main/videos3/rl-video-episode-9250.mp4.\n",
      "Moviepy - Writing video /home/akhters/Reinforcement Learning/advanced_rl_dqn_to_sac_complete-main/videos3/rl-video-episode-9250.mp4\n",
      "\n"
     ]
    },
    {
     "name": "stderr",
     "output_type": "stream",
     "text": []
    },
    {
     "name": "stdout",
     "output_type": "stream",
     "text": [
      "Moviepy - Done !\n",
      "Moviepy - video ready /home/akhters/Reinforcement Learning/advanced_rl_dqn_to_sac_complete-main/videos3/rl-video-episode-9250.mp4\n",
      "Moviepy - Building video /home/akhters/Reinforcement Learning/advanced_rl_dqn_to_sac_complete-main/videos3/rl-video-episode-9300.mp4.\n",
      "Moviepy - Writing video /home/akhters/Reinforcement Learning/advanced_rl_dqn_to_sac_complete-main/videos3/rl-video-episode-9300.mp4\n",
      "\n"
     ]
    },
    {
     "name": "stderr",
     "output_type": "stream",
     "text": []
    },
    {
     "name": "stdout",
     "output_type": "stream",
     "text": [
      "Moviepy - Done !\n",
      "Moviepy - video ready /home/akhters/Reinforcement Learning/advanced_rl_dqn_to_sac_complete-main/videos3/rl-video-episode-9300.mp4\n",
      "Moviepy - Building video /home/akhters/Reinforcement Learning/advanced_rl_dqn_to_sac_complete-main/videos3/rl-video-episode-9350.mp4.\n",
      "Moviepy - Writing video /home/akhters/Reinforcement Learning/advanced_rl_dqn_to_sac_complete-main/videos3/rl-video-episode-9350.mp4\n",
      "\n"
     ]
    },
    {
     "name": "stderr",
     "output_type": "stream",
     "text": []
    },
    {
     "name": "stdout",
     "output_type": "stream",
     "text": [
      "Moviepy - Done !\n",
      "Moviepy - video ready /home/akhters/Reinforcement Learning/advanced_rl_dqn_to_sac_complete-main/videos3/rl-video-episode-9350.mp4\n",
      "Moviepy - Building video /home/akhters/Reinforcement Learning/advanced_rl_dqn_to_sac_complete-main/videos3/rl-video-episode-9400.mp4.\n",
      "Moviepy - Writing video /home/akhters/Reinforcement Learning/advanced_rl_dqn_to_sac_complete-main/videos3/rl-video-episode-9400.mp4\n",
      "\n"
     ]
    },
    {
     "name": "stderr",
     "output_type": "stream",
     "text": []
    },
    {
     "name": "stdout",
     "output_type": "stream",
     "text": [
      "Moviepy - Done !\n",
      "Moviepy - video ready /home/akhters/Reinforcement Learning/advanced_rl_dqn_to_sac_complete-main/videos3/rl-video-episode-9400.mp4\n",
      "Moviepy - Building video /home/akhters/Reinforcement Learning/advanced_rl_dqn_to_sac_complete-main/videos3/rl-video-episode-9450.mp4.\n",
      "Moviepy - Writing video /home/akhters/Reinforcement Learning/advanced_rl_dqn_to_sac_complete-main/videos3/rl-video-episode-9450.mp4\n",
      "\n"
     ]
    },
    {
     "name": "stderr",
     "output_type": "stream",
     "text": []
    },
    {
     "name": "stdout",
     "output_type": "stream",
     "text": [
      "Moviepy - Done !\n",
      "Moviepy - video ready /home/akhters/Reinforcement Learning/advanced_rl_dqn_to_sac_complete-main/videos3/rl-video-episode-9450.mp4\n",
      "Moviepy - Building video /home/akhters/Reinforcement Learning/advanced_rl_dqn_to_sac_complete-main/videos3/rl-video-episode-9500.mp4.\n",
      "Moviepy - Writing video /home/akhters/Reinforcement Learning/advanced_rl_dqn_to_sac_complete-main/videos3/rl-video-episode-9500.mp4\n",
      "\n"
     ]
    },
    {
     "name": "stderr",
     "output_type": "stream",
     "text": []
    },
    {
     "name": "stdout",
     "output_type": "stream",
     "text": [
      "Moviepy - Done !\n",
      "Moviepy - video ready /home/akhters/Reinforcement Learning/advanced_rl_dqn_to_sac_complete-main/videos3/rl-video-episode-9500.mp4\n",
      "Moviepy - Building video /home/akhters/Reinforcement Learning/advanced_rl_dqn_to_sac_complete-main/videos3/rl-video-episode-9550.mp4.\n",
      "Moviepy - Writing video /home/akhters/Reinforcement Learning/advanced_rl_dqn_to_sac_complete-main/videos3/rl-video-episode-9550.mp4\n",
      "\n"
     ]
    },
    {
     "name": "stderr",
     "output_type": "stream",
     "text": []
    },
    {
     "name": "stdout",
     "output_type": "stream",
     "text": [
      "Moviepy - Done !\n",
      "Moviepy - video ready /home/akhters/Reinforcement Learning/advanced_rl_dqn_to_sac_complete-main/videos3/rl-video-episode-9550.mp4\n",
      "Moviepy - Building video /home/akhters/Reinforcement Learning/advanced_rl_dqn_to_sac_complete-main/videos3/rl-video-episode-9600.mp4.\n",
      "Moviepy - Writing video /home/akhters/Reinforcement Learning/advanced_rl_dqn_to_sac_complete-main/videos3/rl-video-episode-9600.mp4\n",
      "\n"
     ]
    },
    {
     "name": "stderr",
     "output_type": "stream",
     "text": []
    },
    {
     "name": "stdout",
     "output_type": "stream",
     "text": [
      "Moviepy - Done !\n",
      "Moviepy - video ready /home/akhters/Reinforcement Learning/advanced_rl_dqn_to_sac_complete-main/videos3/rl-video-episode-9600.mp4\n",
      "Moviepy - Building video /home/akhters/Reinforcement Learning/advanced_rl_dqn_to_sac_complete-main/videos3/rl-video-episode-9650.mp4.\n",
      "Moviepy - Writing video /home/akhters/Reinforcement Learning/advanced_rl_dqn_to_sac_complete-main/videos3/rl-video-episode-9650.mp4\n",
      "\n"
     ]
    },
    {
     "name": "stderr",
     "output_type": "stream",
     "text": []
    },
    {
     "name": "stdout",
     "output_type": "stream",
     "text": [
      "Moviepy - Done !\n",
      "Moviepy - video ready /home/akhters/Reinforcement Learning/advanced_rl_dqn_to_sac_complete-main/videos3/rl-video-episode-9650.mp4\n",
      "Moviepy - Building video /home/akhters/Reinforcement Learning/advanced_rl_dqn_to_sac_complete-main/videos3/rl-video-episode-9700.mp4.\n",
      "Moviepy - Writing video /home/akhters/Reinforcement Learning/advanced_rl_dqn_to_sac_complete-main/videos3/rl-video-episode-9700.mp4\n",
      "\n"
     ]
    },
    {
     "name": "stderr",
     "output_type": "stream",
     "text": []
    },
    {
     "name": "stdout",
     "output_type": "stream",
     "text": [
      "Moviepy - Done !\n",
      "Moviepy - video ready /home/akhters/Reinforcement Learning/advanced_rl_dqn_to_sac_complete-main/videos3/rl-video-episode-9700.mp4\n",
      "Moviepy - Building video /home/akhters/Reinforcement Learning/advanced_rl_dqn_to_sac_complete-main/videos3/rl-video-episode-9750.mp4.\n",
      "Moviepy - Writing video /home/akhters/Reinforcement Learning/advanced_rl_dqn_to_sac_complete-main/videos3/rl-video-episode-9750.mp4\n",
      "\n"
     ]
    },
    {
     "name": "stderr",
     "output_type": "stream",
     "text": []
    },
    {
     "name": "stdout",
     "output_type": "stream",
     "text": [
      "Moviepy - Done !\n",
      "Moviepy - video ready /home/akhters/Reinforcement Learning/advanced_rl_dqn_to_sac_complete-main/videos3/rl-video-episode-9750.mp4\n",
      "Moviepy - Building video /home/akhters/Reinforcement Learning/advanced_rl_dqn_to_sac_complete-main/videos3/rl-video-episode-9800.mp4.\n",
      "Moviepy - Writing video /home/akhters/Reinforcement Learning/advanced_rl_dqn_to_sac_complete-main/videos3/rl-video-episode-9800.mp4\n",
      "\n"
     ]
    },
    {
     "name": "stderr",
     "output_type": "stream",
     "text": []
    },
    {
     "name": "stdout",
     "output_type": "stream",
     "text": [
      "Moviepy - Done !\n",
      "Moviepy - video ready /home/akhters/Reinforcement Learning/advanced_rl_dqn_to_sac_complete-main/videos3/rl-video-episode-9800.mp4\n",
      "Moviepy - Building video /home/akhters/Reinforcement Learning/advanced_rl_dqn_to_sac_complete-main/videos3/rl-video-episode-9850.mp4.\n",
      "Moviepy - Writing video /home/akhters/Reinforcement Learning/advanced_rl_dqn_to_sac_complete-main/videos3/rl-video-episode-9850.mp4\n",
      "\n"
     ]
    },
    {
     "name": "stderr",
     "output_type": "stream",
     "text": []
    },
    {
     "name": "stdout",
     "output_type": "stream",
     "text": [
      "Moviepy - Done !\n",
      "Moviepy - video ready /home/akhters/Reinforcement Learning/advanced_rl_dqn_to_sac_complete-main/videos3/rl-video-episode-9850.mp4\n",
      "Moviepy - Building video /home/akhters/Reinforcement Learning/advanced_rl_dqn_to_sac_complete-main/videos3/rl-video-episode-9900.mp4.\n",
      "Moviepy - Writing video /home/akhters/Reinforcement Learning/advanced_rl_dqn_to_sac_complete-main/videos3/rl-video-episode-9900.mp4\n",
      "\n"
     ]
    },
    {
     "name": "stderr",
     "output_type": "stream",
     "text": []
    },
    {
     "name": "stdout",
     "output_type": "stream",
     "text": [
      "Moviepy - Done !\n",
      "Moviepy - video ready /home/akhters/Reinforcement Learning/advanced_rl_dqn_to_sac_complete-main/videos3/rl-video-episode-9900.mp4\n",
      "Moviepy - Building video /home/akhters/Reinforcement Learning/advanced_rl_dqn_to_sac_complete-main/videos3/rl-video-episode-9950.mp4.\n",
      "Moviepy - Writing video /home/akhters/Reinforcement Learning/advanced_rl_dqn_to_sac_complete-main/videos3/rl-video-episode-9950.mp4\n",
      "\n"
     ]
    },
    {
     "name": "stderr",
     "output_type": "stream",
     "text": []
    },
    {
     "name": "stdout",
     "output_type": "stream",
     "text": [
      "Moviepy - Done !\n",
      "Moviepy - video ready /home/akhters/Reinforcement Learning/advanced_rl_dqn_to_sac_complete-main/videos3/rl-video-episode-9950.mp4\n",
      "Moviepy - Building video /home/akhters/Reinforcement Learning/advanced_rl_dqn_to_sac_complete-main/videos3/rl-video-episode-10000.mp4.\n",
      "Moviepy - Writing video /home/akhters/Reinforcement Learning/advanced_rl_dqn_to_sac_complete-main/videos3/rl-video-episode-10000.mp4\n",
      "\n"
     ]
    },
    {
     "name": "stderr",
     "output_type": "stream",
     "text": []
    },
    {
     "name": "stdout",
     "output_type": "stream",
     "text": [
      "Moviepy - Done !\n",
      "Moviepy - video ready /home/akhters/Reinforcement Learning/advanced_rl_dqn_to_sac_complete-main/videos3/rl-video-episode-10000.mp4\n"
     ]
    },
    {
     "name": "stderr",
     "output_type": "stream",
     "text": [
      "`Trainer.fit` stopped: `max_epochs=10000` reached.\n"
     ]
    }
   ],
   "source": [
    "algo = SAC('FetchReachDense-v1', lr=1e-3, alpha=0.002, tau=0.1)\n",
    "\n",
    "trainer = Trainer(\n",
    "    # gpus=num_gpus, \n",
    "    max_epochs=10_000,\n",
    "    log_every_n_steps=1\n",
    ")\n",
    "\n",
    "trainer.fit(algo)"
   ]
  },
  {
   "cell_type": "code",
   "execution_count": 18,
   "metadata": {
    "id": "Pbok-MwMQGWZ"
   },
   "outputs": [
    {
     "ename": "RuntimeError",
     "evalue": "CUDA unknown error - this may be due to an incorrectly set up environment, e.g. changing env variable CUDA_VISIBLE_DEVICES after program start. Setting the available devices to be zero.",
     "output_type": "error",
     "traceback": [
      "\u001b[0;31m---------------------------------------------------------------------------\u001b[0m",
      "\u001b[0;31mRuntimeError\u001b[0m                              Traceback (most recent call last)",
      "Cell \u001b[0;32mIn[18], line 1\u001b[0m\n\u001b[0;32m----> 1\u001b[0m \u001b[43mtorch\u001b[49m\u001b[38;5;241;43m.\u001b[39;49m\u001b[43m_C\u001b[49m\u001b[38;5;241;43m.\u001b[39;49m\u001b[43m_cuda_init\u001b[49m\u001b[43m(\u001b[49m\u001b[43m)\u001b[49m\n",
      "\u001b[0;31mRuntimeError\u001b[0m: CUDA unknown error - this may be due to an incorrectly set up environment, e.g. changing env variable CUDA_VISIBLE_DEVICES after program start. Setting the available devices to be zero."
     ]
    }
   ],
   "source": [
    "torch._C._cuda_init()"
   ]
  },
  {
   "cell_type": "code",
   "execution_count": null,
   "metadata": {},
   "outputs": [],
   "source": []
  }
 ],
 "metadata": {
  "colab": {
   "collapsed_sections": [],
   "name": "7_soft_actor_critic.ipynb",
   "provenance": []
  },
  "kernelspec": {
   "display_name": "Python 3 (ipykernel)",
   "language": "python",
   "name": "python3"
  },
  "language_info": {
   "codemirror_mode": {
    "name": "ipython",
    "version": 3
   },
   "file_extension": ".py",
   "mimetype": "text/x-python",
   "name": "python",
   "nbconvert_exporter": "python",
   "pygments_lexer": "ipython3",
   "version": "3.8.10"
  }
 },
 "nbformat": 4,
 "nbformat_minor": 1
}
